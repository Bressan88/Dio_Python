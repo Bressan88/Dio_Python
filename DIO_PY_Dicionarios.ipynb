{
  "nbformat": 4,
  "nbformat_minor": 0,
  "metadata": {
    "colab": {
      "provenance": [],
      "authorship_tag": "ABX9TyMfqNz6VWSIIsbgGf397I3l",
      "include_colab_link": true
    },
    "kernelspec": {
      "name": "python3",
      "display_name": "Python 3"
    },
    "language_info": {
      "name": "python"
    }
  },
  "cells": [
    {
      "cell_type": "markdown",
      "metadata": {
        "id": "view-in-github",
        "colab_type": "text"
      },
      "source": [
        "<a href=\"https://colab.research.google.com/github/Bressan88/Dio_Python/blob/main/DIO_PY_Dicionarios.ipynb\" target=\"_parent\"><img src=\"https://colab.research.google.com/assets/colab-badge.svg\" alt=\"Open In Colab\"/></a>"
      ]
    },
    {
      "cell_type": "markdown",
      "source": [
        "# **DICIONÁRIOS**\n"
      ],
      "metadata": {
        "id": "iw4uJosA-9LY"
      }
    },
    {
      "cell_type": "code",
      "execution_count": 3,
      "metadata": {
        "colab": {
          "base_uri": "https://localhost:8080/"
        },
        "id": "SnauPuoX9ZzB",
        "outputId": "6a1589c9-2198-4a80-d29e-6502845b4eff"
      },
      "outputs": [
        {
          "output_type": "stream",
          "name": "stdout",
          "text": [
            "Eduardo\n",
            "37\n",
            "1234-5678\n"
          ]
        }
      ],
      "source": [
        "# EXEMPLO\n",
        "\n",
        "# Jeito para se criar um dicionário\n",
        "pessoa = {'nome': 'Eduardo','idade':37}\n",
        "# Criando um dicionário a partir da classe/construtor DICT\n",
        "pessoa = dict(nome='Eduardo',idade=37)\n",
        "# Uma forma de adicionar uma nova chave\n",
        "pessoa['telefone'] = '1234-5678'\n",
        "\n",
        "# Para acessar os valores\n",
        "print(pessoa['nome'])\n",
        "print(pessoa['idade'])\n",
        "print(pessoa['telefone'])"
      ]
    },
    {
      "cell_type": "markdown",
      "source": [
        "## **DICIONÁRIOS ANINHADOS**\n",
        "Dicionários podem armazenar qualquer tipo de ovjeto Python como valor, desde que a chave para esse valor seja um objeto imutável como strings e números."
      ],
      "metadata": {
        "id": "mvp41-r4Qi44"
      }
    },
    {
      "cell_type": "code",
      "source": [
        "contatos = {\n",
        "    'cachorro@gmail.com': {'nome':'Alfredo','idade':10},\n",
        "    'gato@gmail.com': {'nome':'Fumaca','idade':15}\n",
        "}\n",
        "\n",
        "print(type(contatos))\n",
        "print(contatos)\n",
        "print(contatos['cachorro@gmail.com'])\n",
        "print(contatos['cachorro@gmail.com']['nome'])\n",
        "print(contatos['cachorro@gmail.com']['idade'])\n",
        "print(contatos['gato@gmail.com'])\n",
        "print(contatos['gato@gmail.com']['nome'])\n",
        "print(contatos['gato@gmail.com']['idade'])"
      ],
      "metadata": {
        "colab": {
          "base_uri": "https://localhost:8080/"
        },
        "id": "a4XllNLGQ0Q1",
        "outputId": "090e7bc3-eb0b-48c6-c831-0ae3a2f88997"
      },
      "execution_count": 6,
      "outputs": [
        {
          "output_type": "stream",
          "name": "stdout",
          "text": [
            "<class 'dict'>\n",
            "{'cachorro@gmail.com': {'nome': 'Alfredo', 'idade': 10}, 'gato@gmail.com': {'nome': 'Fumaca', 'idade': 15}}\n",
            "{'nome': 'Alfredo', 'idade': 10}\n",
            "Alfredo\n",
            "10\n",
            "{'nome': 'Fumaca', 'idade': 15}\n",
            "Fumaca\n",
            "15\n"
          ]
        }
      ]
    },
    {
      "cell_type": "markdown",
      "source": [
        "## **ITERAR DICIONÁRIOS**\n",
        "A forma mais comum para percorrer os dados de um dicionário é utilizando o comando ***for***."
      ],
      "metadata": {
        "id": "766lZFjSTXrH"
      }
    },
    {
      "cell_type": "code",
      "source": [
        "# EXEMPLO\n",
        "contatos = {\n",
        "    'cachorro@gmail.com': {'nome':'Alfredo','idade':10},\n",
        "    'gato@gmail.com': {'nome':'Fumaca','idade':15}\n",
        "}\n",
        "\n",
        "# Desta maneira, retorna apenas o valor da chave\n",
        "for chave in contatos:\n",
        "  print(chave, contatos[chave])\n",
        "\n",
        "print('')\n",
        "\n",
        "for chave, valor in contatos.items():\n",
        "  print(chave, valor)"
      ],
      "metadata": {
        "colab": {
          "base_uri": "https://localhost:8080/"
        },
        "id": "ZzzjMMXLTW_i",
        "outputId": "8e599392-072a-4658-f0ad-c34e08106c03"
      },
      "execution_count": 7,
      "outputs": [
        {
          "output_type": "stream",
          "name": "stdout",
          "text": [
            "cachorro@gmail.com {'nome': 'Alfredo', 'idade': 10}\n",
            "gato@gmail.com {'nome': 'Fumaca', 'idade': 15}\n",
            "\n",
            "cachorro@gmail.com {'nome': 'Alfredo', 'idade': 10}\n",
            "gato@gmail.com {'nome': 'Fumaca', 'idade': 15}\n"
          ]
        }
      ]
    },
    {
      "cell_type": "markdown",
      "source": [
        "## **MÉTODOS DA CLASSE DICT**\n",
        "```\n",
        "# Isto está formatado como código\n",
        "```"
      ],
      "metadata": {
        "id": "ttDr5WzFWgPT"
      }
    },
    {
      "cell_type": "code",
      "source": [
        "# {}.clear() ------> Apaga todos os valores do dicionário\n",
        "# {}.copy() -------> Faz uma cópia do dicionário\n",
        "# {}.fromkeys() ---> Cria chaves\n",
        "dicionario1 = dict.fromkeys(['nome','telefone'])\n",
        "print(dicionario1)\n",
        "dicionario1 = dict.fromkeys(['nome','telefone'],'vazio')\n",
        "print(dicionario1)\n",
        "\n",
        "# {}.get() --------> Outra forma de acessar os valor no dicionario\n",
        "contatos = {\n",
        "    'cachorro@gmail.com': {'nome':'Alfredo','idade':10},\n",
        "    'gato@gmail.com': {'nome':'Fumaca','idade':15}\n",
        "}\n",
        "print(contatos.get(\"gato@gmail.com\"))\n",
        "print(contatos.get(\"chave\"))\n",
        "print(contatos.get(\"chave\",{}))\n",
        "print(contatos.get(\"chave\",\"Chave não encontrada!\"))\n",
        "\n",
        "# {}.items() ------> Retorna uma lista de tuplas.\n",
        "print(contatos.items())\n",
        "\n",
        "# {}.keys() -------> Retorna as chaves de um dicionário.\n",
        "print(contatos.keys())\n",
        "\n",
        "# {}.pop() --------> Remove uma chave do dicionário.\n",
        "dicionario2 = {'nome':'Eduardo'}\n",
        "print(dicionario2)\n",
        "resultado = dicionario2.pop('nome','Não encontrado!')\n",
        "print(resultado)\n",
        "resultado = dicionario2.pop('nome','Não encontrado!')\n",
        "print(resultado)\n",
        "\n",
        "# {}.popitem ------> Não informa a chave, mas retira os itens na sequências.\n",
        "# {}.setdefault ---> Se o valor não estiver no dicionário, ele adiciona com o valor mencionado.\n",
        "#                    Se o atributo existir, ele retorna o valor\n",
        "dicionario3 = {'nome':'Eduardo','idade':37}\n",
        "print(dicionario3)\n",
        "dicionario3.setdefault('nome','Marcos')\n",
        "print(dicionario3)\n",
        "dicionario3.setdefault('telefone','9999-9999')\n",
        "print(dicionario3)\n",
        "\n",
        "# {}.update -------> Atualiza o dicionário com outro novo dicionário.\n",
        "contatos = {'Eduardo': {'idade':37,'telefone':'9999-9999'}}\n",
        "print(contatos)\n",
        "\n",
        "contatos.update({'Eduardo':{'idade':30}})\n",
        "print(contatos)\n",
        "\n",
        "contatos.update({'Marcos': {'idade':50,'telefone':'2222-2222'}})\n",
        "print(contatos)\n",
        "# {}.values() -----> Retorna todos os valores (dicionarios que estão amarrados com estas chaves)\n",
        "# in --------------> Verifica se determinada chave existe\n",
        "dicionario4 = {'Eduardo': {'idade':37,'telefone':'9999-9999'},\n",
        "               'Marcos': {'idade':30,'telefone':'2222-2222'}\n",
        "               }\n",
        "print(dicionario4)\n",
        "\n",
        "lista_chaves: list = dicionario4.keys()\n",
        "print(lista_chaves)\n",
        "#verificacao = lista_chaves.count('Eduardo')\n",
        "#verificacao = lista_chaves.index('Eduardo')\n",
        "print('Eduardo' in dicionario4)\n",
        "print('Joao' in dicionario4)\n",
        "print('idade' in dicionario4['Eduardo'])\n",
        "\n",
        "# del -----------> Outra forma de tirar um valor de um dicionario.\n",
        "del dicionario4['Eduardo']['idade']\n",
        "print(dicionario4)\n",
        "del dicionario4['Marcos']\n",
        "print(dicionario4)"
      ],
      "metadata": {
        "colab": {
          "base_uri": "https://localhost:8080/"
        },
        "id": "JcyYAAVIWl21",
        "outputId": "2fa9d2d5-e4e7-4a45-8951-8206ccd1975c"
      },
      "execution_count": 42,
      "outputs": [
        {
          "output_type": "stream",
          "name": "stdout",
          "text": [
            "{'nome': None, 'telefone': None}\n",
            "{'nome': 'vazio', 'telefone': 'vazio'}\n",
            "{'nome': 'Fumaca', 'idade': 15}\n",
            "None\n",
            "{}\n",
            "Chave não encontrada!\n",
            "dict_items([('cachorro@gmail.com', {'nome': 'Alfredo', 'idade': 10}), ('gato@gmail.com', {'nome': 'Fumaca', 'idade': 15})])\n",
            "dict_keys(['cachorro@gmail.com', 'gato@gmail.com'])\n",
            "{'nome': 'Eduardo'}\n",
            "Eduardo\n",
            "Não encontrado!\n",
            "{'nome': 'Eduardo', 'idade': 37}\n",
            "{'nome': 'Eduardo', 'idade': 37}\n",
            "{'nome': 'Eduardo', 'idade': 37, 'telefone': '9999-9999'}\n",
            "{'Eduardo': {'idade': 37, 'telefone': '9999-9999'}}\n",
            "{'Eduardo': {'idade': 30}}\n",
            "{'Eduardo': {'idade': 30}, 'Marcos': {'idade': 50, 'telefone': '2222-2222'}}\n",
            "{'Eduardo': {'idade': 37, 'telefone': '9999-9999'}, 'Marcos': {'idade': 30, 'telefone': '2222-2222'}}\n",
            "dict_keys(['Eduardo', 'Marcos'])\n",
            "True\n",
            "False\n",
            "True\n",
            "{'Eduardo': {'telefone': '9999-9999'}, 'Marcos': {'idade': 30, 'telefone': '2222-2222'}}\n",
            "{'Eduardo': {'telefone': '9999-9999'}}\n"
          ]
        }
      ]
    }
  ]
}