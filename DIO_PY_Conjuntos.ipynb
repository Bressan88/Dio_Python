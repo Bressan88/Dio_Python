{
  "nbformat": 4,
  "nbformat_minor": 0,
  "metadata": {
    "colab": {
      "provenance": [],
      "authorship_tag": "ABX9TyND+CCVRndqRsFXggHeEuTw",
      "include_colab_link": true
    },
    "kernelspec": {
      "name": "python3",
      "display_name": "Python 3"
    },
    "language_info": {
      "name": "python"
    }
  },
  "cells": [
    {
      "cell_type": "markdown",
      "metadata": {
        "id": "view-in-github",
        "colab_type": "text"
      },
      "source": [
        "<a href=\"https://colab.research.google.com/github/Bressan88/Dio_Python/blob/main/DIO_PY_Conjuntos.ipynb\" target=\"_parent\"><img src=\"https://colab.research.google.com/assets/colab-badge.svg\" alt=\"Open In Colab\"/></a>"
      ]
    },
    {
      "cell_type": "markdown",
      "source": [
        "# **CRIANDO SETS**\n",
        "Um set é uma coleção que não possui repetidos. Usamos sets para representar conjuntos matemáticos ou eliminar itens duplicados de um objeto iterável."
      ],
      "metadata": {
        "id": "srg2l37Hiet2"
      }
    },
    {
      "cell_type": "code",
      "execution_count": 12,
      "metadata": {
        "colab": {
          "base_uri": "https://localhost:8080/"
        },
        "id": "jBH_auEfeG0a",
        "outputId": "b3c7fbd8-1423-435d-a243-7415e59b612c"
      },
      "outputs": [
        {
          "output_type": "stream",
          "name": "stdout",
          "text": [
            "{1, 2, 3, 4, 5}\n",
            "{'x', 'a', 'b', 'i', 'c'}\n",
            "{'gol', 'santana', 'palio'}\n",
            "{'Java', 'C', 'python'}\n"
          ]
        }
      ],
      "source": [
        "lista = [1,2,3,3,5,4,4]\n",
        "linguagens = {'python','C','Java','python'}\n",
        "print(set(lista))\n",
        "print(set('abacaxi'))\n",
        "print(set(('santana','palio','gol','santana')))\n",
        "print(set(linguagens))"
      ]
    },
    {
      "cell_type": "markdown",
      "source": [
        "## **Acessando os dados**\n",
        "Conjuntos em Python não suportam indexação e nem fatiamento, caso queira acessar os seus valores é necessário converter o conjunto para lista."
      ],
      "metadata": {
        "id": "QzB_2GM9k51A"
      }
    },
    {
      "cell_type": "code",
      "source": [
        "numeros = {1,2,3,2}\n",
        "print(type(numeros))\n",
        "numeros = list(numeros)\n",
        "print(numeros[0])"
      ],
      "metadata": {
        "colab": {
          "base_uri": "https://localhost:8080/"
        },
        "id": "gO-NrB7rlOAx",
        "outputId": "924f9db6-94ad-4e7b-b208-08d3249a2109"
      },
      "execution_count": 15,
      "outputs": [
        {
          "output_type": "stream",
          "name": "stdout",
          "text": [
            "<class 'set'>\n",
            "1\n"
          ]
        }
      ]
    },
    {
      "cell_type": "markdown",
      "source": [
        "## **Iterar conjuntos**\n",
        "A forma mais comum para percorrer os dados de um conjunto é utilizando o comando ***for***."
      ],
      "metadata": {
        "id": "gdjiKDWYnrBK"
      }
    },
    {
      "cell_type": "code",
      "source": [
        "carros = {'palio','gol','celta'}\n",
        "\n",
        "for carro in carros:\n",
        "  print(carro)\n",
        "\n",
        "# É possível usar a função ENUMERATE\n",
        "print('')\n",
        "for indice, carro in enumerate(carros):\n",
        "  print(f'{indice}: {carro}')"
      ],
      "metadata": {
        "colab": {
          "base_uri": "https://localhost:8080/"
        },
        "id": "SnMlIMR4nrnX",
        "outputId": "2280fd53-b1ad-4c5d-ed7c-d1681a646149"
      },
      "execution_count": 17,
      "outputs": [
        {
          "output_type": "stream",
          "name": "stdout",
          "text": [
            "celta\n",
            "gol\n",
            "palio\n",
            "\n",
            "0: celta\n",
            "1: gol\n",
            "2: palio\n"
          ]
        }
      ]
    },
    {
      "cell_type": "markdown",
      "source": [
        "É possível realizar a junção de conjuntos, como na matemária, fazendo a união destes mesclando os dados de acordo com a forma desejada."
      ],
      "metadata": {
        "id": "pU62lb2vocDI"
      }
    },
    {
      "cell_type": "code",
      "source": [
        "# {}.union\n",
        "conjunto_a = {1,2}\n",
        "conjunto_b = {3,4}\n",
        "print(conjunto_a.union(conjunto_b))\n",
        "print('')\n",
        "\n",
        "# {}.intersection\n",
        "conjunto_a = {1,2,3}\n",
        "conjunto_b = {2,3,4}\n",
        "print(conjunto_a.intersection(conjunto_b))\n",
        "print('')\n",
        "\n",
        "# {}.difference\n",
        "# É tudo o que tem em um conjunto que não tem no outro.\n",
        "conjunto_a = {1,2,3}\n",
        "conjunto_b = {2,3,4}\n",
        "print(conjunto_a.difference(conjunto_b))\n",
        "print(conjunto_b.difference(conjunto_a))\n",
        "print('')\n",
        "\n",
        "# {}.symmetric_difference\n",
        "# São todos os elementos que não estão na interseção\n",
        "conjunto_a = {1,2,3}\n",
        "conjunto_b = {2,3,4}\n",
        "print(conjunto_a.symmetric_difference(conjunto_b))\n",
        "print('')\n",
        "\n",
        "# {}.issubset\n",
        "conjunto_a = {1,2,3}\n",
        "conjunto_b = {1,2,3,4,5,6}\n",
        "print(conjunto_a.issubset(conjunto_b))\n",
        "print(conjunto_b.issubset(conjunto_a))\n",
        "print('')\n",
        "\n",
        "# {}.issubset\n",
        "conjunto_a = {1,2,3}\n",
        "conjunto_b = {1,2,3,4,5,6}\n",
        "print(conjunto_a.issuperset(conjunto_b))\n",
        "print(conjunto_b.issuperset(conjunto_a))\n",
        "print('')\n",
        "\n",
        "# {}.isdisjoint\n",
        "# Para verificar se há elementos de um conjunto no outro.\n",
        "conjunto_a = {1,2,3,4,5}\n",
        "conjunto_b = {6,7,8,9}\n",
        "conjunto_c = {1,0}\n",
        "print(conjunto_a.isdisjoint(conjunto_b))\n",
        "print(conjunto_a.isdisjoint(conjunto_c))\n",
        "print(conjunto_c.isdisjoint(conjunto_b))\n",
        "\n",
        "# {}.add\n",
        "# Caso o elemento não exista, será adicionado.\n",
        "sorteio = {1, 23}\n",
        "sorteio.add(25)\n",
        "sorteio.add(42)\n",
        "sorteio.add(88)\n",
        "print(sorteio)\n",
        "print('')\n",
        "\n",
        "# {}.clear() ----> Limpa o set\n",
        "# {}.copy() -----> Faz uma cópía do set\n",
        "# {}.discard(n) -> Elimina o elemento n do set (Caso o elemento 'n' não exista, não acontece nada)\n",
        "# {}.pop() ------> Elimina o primeiro elemento\n",
        "# {}.remove(n) --> Elimina o elemento n do set (Caso o elemento 'n' não exista, ele dá erro)\n",
        "# {}.len() ------> retorna o tamanho do set\n",
        "\n",
        "# in\n",
        "# Verifica se o elemento está no conjunto (set)\n",
        "numeros = {1,2,3,4,5}\n",
        "print(1 in numeros)\n",
        "print(7 in numeros)"
      ],
      "metadata": {
        "colab": {
          "base_uri": "https://localhost:8080/"
        },
        "id": "p5BUhxLeocr1",
        "outputId": "d4e9c6be-e5f1-40ad-a5fe-e46600516cbf"
      },
      "execution_count": 29,
      "outputs": [
        {
          "output_type": "stream",
          "name": "stdout",
          "text": [
            "{1, 2, 3, 4}\n",
            "\n",
            "{2, 3}\n",
            "\n",
            "{1}\n",
            "{4}\n",
            "\n",
            "{1, 4}\n",
            "\n",
            "True\n",
            "False\n",
            "\n",
            "False\n",
            "True\n",
            "\n",
            "True\n",
            "False\n",
            "True\n",
            "{1, 42, 23, 88, 25}\n",
            "\n",
            "True\n",
            "False\n"
          ]
        }
      ]
    }
  ]
}