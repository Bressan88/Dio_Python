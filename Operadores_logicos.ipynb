{
  "nbformat": 4,
  "nbformat_minor": 0,
  "metadata": {
    "colab": {
      "provenance": [],
      "authorship_tag": "ABX9TyNqM4HZs4/kf+DEwBEiZodi",
      "include_colab_link": true
    },
    "kernelspec": {
      "name": "python3",
      "display_name": "Python 3"
    },
    "language_info": {
      "name": "python"
    }
  },
  "cells": [
    {
      "cell_type": "markdown",
      "metadata": {
        "id": "view-in-github",
        "colab_type": "text"
      },
      "source": [
        "<a href=\"https://colab.research.google.com/github/Bressan88/Dio_Python/blob/main/Operadores_logicos.ipynb\" target=\"_parent\"><img src=\"https://colab.research.google.com/assets/colab-badge.svg\" alt=\"Open In Colab\"/></a>"
      ]
    },
    {
      "cell_type": "markdown",
      "source": [
        "# OPERADORES LÓGICOS\n",
        "São operadores utilizados em conjunto com os operadores de comparação, para montar uma expressão lógica. O resultado retornado é um booleano."
      ],
      "metadata": {
        "id": "pgcmOlmCoG_S"
      }
    },
    {
      "cell_type": "code",
      "execution_count": 1,
      "metadata": {
        "colab": {
          "base_uri": "https://localhost:8080/"
        },
        "id": "l0LB4ryin7cg",
        "outputId": "7209658b-68b9-41b0-e168-157e18ffa2c9"
      },
      "outputs": [
        {
          "output_type": "stream",
          "name": "stdout",
          "text": [
            "True\n",
            "False\n"
          ]
        }
      ],
      "source": [
        "saldo = 1000\n",
        "saque = 200\n",
        "limite = 100\n",
        "\n",
        "print(saldo >= saque)\n",
        "print(saque <= limite)"
      ]
    },
    {
      "cell_type": "markdown",
      "source": [
        "# Operador: E\n",
        "```\n",
        "saldo >= saque and saque <= limite\n",
        ">>> False\n",
        "```\n",
        "# Operador: OU\n",
        "```\n",
        "saldo >= saque or saque <= limite\n",
        ">>> True\n",
        "```\n",
        "# Operador: Negação\n",
        "```\n",
        "# Uma lista vazia em Python é considerada vazia (False)\n",
        "contatos_emergencia = []\n",
        "\n",
        "not 1000 > 1500\n",
        ">>> True\n",
        "\n",
        "not contatos_emergencia\n",
        ">>> True\n",
        "\n",
        "not \"saque 1500;\"\n",
        ">>> False\n",
        "\n",
        "not \"\"\n",
        ">>> True\n",
        "```\n"
      ],
      "metadata": {
        "id": "oPpBfrKbo6fM"
      }
    },
    {
      "cell_type": "markdown",
      "source": [
        "# Parênteses"
      ],
      "metadata": {
        "id": "9z2hYDJHq645"
      }
    },
    {
      "cell_type": "code",
      "source": [
        "print(True and True)\n",
        "print(True and False)\n",
        "print(False and False)\n",
        "print(True or True)\n",
        "print(True or False)\n",
        "print(False or False)\n",
        "\n",
        "saldo = 1000\n",
        "saque = 250\n",
        "limite = 200\n",
        "conta_especial = True\n",
        "\n",
        "saldo >= saque and saque <= limite or conta_especial and saldo >= saque\n",
        "\n",
        "(saldo >= saque and saque <= limite) or (conta_especial and saldo >= saque)"
      ],
      "metadata": {
        "colab": {
          "base_uri": "https://localhost:8080/"
        },
        "id": "DXlvp_l0rEco",
        "outputId": "06cd956c-4857-4ee3-cd5e-edf0692656ae"
      },
      "execution_count": 3,
      "outputs": [
        {
          "output_type": "stream",
          "name": "stdout",
          "text": [
            "True\n",
            "False\n",
            "False\n",
            "True\n",
            "True\n",
            "False\n"
          ]
        },
        {
          "output_type": "execute_result",
          "data": {
            "text/plain": [
              "True"
            ]
          },
          "metadata": {},
          "execution_count": 3
        }
      ]
    }
  ]
}