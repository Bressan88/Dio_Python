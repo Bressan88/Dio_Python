{
  "nbformat": 4,
  "nbformat_minor": 0,
  "metadata": {
    "colab": {
      "provenance": [],
      "authorship_tag": "ABX9TyMeuD4y/q3/iWNhpH6xfAwC",
      "include_colab_link": true
    },
    "kernelspec": {
      "name": "python3",
      "display_name": "Python 3"
    },
    "language_info": {
      "name": "python"
    }
  },
  "cells": [
    {
      "cell_type": "markdown",
      "metadata": {
        "id": "view-in-github",
        "colab_type": "text"
      },
      "source": [
        "<a href=\"https://colab.research.google.com/github/Bressan88/Dio_Python/blob/main/Tipos_de_Operadores.ipynb\" target=\"_parent\"><img src=\"https://colab.research.google.com/assets/colab-badge.svg\" alt=\"Open In Colab\"/></a>"
      ]
    },
    {
      "cell_type": "markdown",
      "source": [
        "# OPERADORES ARITMETICOS\n",
        "Executam operações matemáticas como adição, subtração, divisão, multiplicação, etc."
      ],
      "metadata": {
        "id": "koOPXw2oHnCi"
      }
    },
    {
      "cell_type": "code",
      "execution_count": 6,
      "metadata": {
        "colab": {
          "base_uri": "https://localhost:8080/"
        },
        "id": "rBmcwoviF_yl",
        "outputId": "e07cb69d-8bcc-4caf-9ae4-d1e7efe5c92e"
      },
      "outputs": [
        {
          "output_type": "stream",
          "name": "stdout",
          "text": [
            "2\n",
            "8\n",
            "12\n",
            "4.0\n",
            "6.0\n"
          ]
        }
      ],
      "source": [
        "# Adição\n",
        "print(1+1)\n",
        "\n",
        "# Subtração\n",
        "print(10-2)\n",
        "\n",
        "# Multiplicação\n",
        "print(4*3)\n",
        "\n",
        "# Divisão\n",
        "print(12/3)\n",
        "\n",
        "# Divisão inteira\n",
        "print(12/2)\n",
        "\n",
        "# Módulo (resto de uma divisão)\n",
        "print(10 % 3)\n",
        "\n",
        "# Exponenciação\n",
        "print(2 ** 3)"
      ]
    },
    {
      "cell_type": "markdown",
      "source": [
        "# Precedência dos operadores\n",
        "Ordem:\n",
        "- Parêntesis;\n",
        "- Expoentes;\n",
        "- Multiplicação e divisão (da esquerda pra direita);\n",
        "- Somas e subtrações (da esquerda pra direita)."
      ],
      "metadata": {
        "id": "gMVNGYLKOOwU"
      }
    },
    {
      "cell_type": "code",
      "source": [
        "x = 10 - 5 * 2\n",
        "print(x)\n",
        "\n",
        "print(10 - 5 * 2)\n",
        "print((10 - 5) * 2)\n",
        "print(10  ** 2 * 2)\n",
        "print(10 ** (2 * 2))\n",
        "print(10 / 2 * 4)"
      ],
      "metadata": {
        "colab": {
          "base_uri": "https://localhost:8080/"
        },
        "id": "cRm_SneAOWNt",
        "outputId": "7e4d784d-5527-4394-f986-494201bbc27b"
      },
      "execution_count": 8,
      "outputs": [
        {
          "output_type": "stream",
          "name": "stdout",
          "text": [
            "0\n",
            "0\n",
            "10\n",
            "200\n",
            "10000\n",
            "20.0\n"
          ]
        }
      ]
    },
    {
      "cell_type": "markdown",
      "source": [
        "# EXEMPLOS"
      ],
      "metadata": {
        "id": "R8Bw1q06RSPB"
      }
    },
    {
      "cell_type": "code",
      "source": [
        "produto_1 = 10\n",
        "produto_2 = 20\n",
        "\n",
        "print(produto_1 + produto_2 + 3.5)\n",
        "print(produto_1 + produto_2)\n",
        "print(produto_1 - produto_2)\n",
        "print(produto_1 * produto_2)\n",
        "print(produto_1 / produto_2)\n",
        "print(produto_1 // produto_2)\n",
        "print(produto_1 % produto_2)\n",
        "\n",
        "print(type(produto_1))\n",
        "print(type(produto_2))"
      ],
      "metadata": {
        "colab": {
          "base_uri": "https://localhost:8080/"
        },
        "id": "WfkP3V_VRT73",
        "outputId": "52a8ac56-128e-4ff6-e8fe-8393c4e76f62"
      },
      "execution_count": 11,
      "outputs": [
        {
          "output_type": "stream",
          "name": "stdout",
          "text": [
            "33.5\n",
            "30\n",
            "-10\n",
            "200\n",
            "0.5\n",
            "0\n",
            "10\n",
            "<class 'int'>\n",
            "<class 'int'>\n"
          ]
        }
      ]
    }
  ]
}