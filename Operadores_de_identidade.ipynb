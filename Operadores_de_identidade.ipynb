{
  "nbformat": 4,
  "nbformat_minor": 0,
  "metadata": {
    "colab": {
      "provenance": [],
      "authorship_tag": "ABX9TyN/JsC2vesh1Iwk2nkn4r74",
      "include_colab_link": true
    },
    "kernelspec": {
      "name": "python3",
      "display_name": "Python 3"
    },
    "language_info": {
      "name": "python"
    }
  },
  "cells": [
    {
      "cell_type": "markdown",
      "metadata": {
        "id": "view-in-github",
        "colab_type": "text"
      },
      "source": [
        "<a href=\"https://colab.research.google.com/github/Bressan88/Dio_Python/blob/main/Operadores_de_identidade.ipynb\" target=\"_parent\"><img src=\"https://colab.research.google.com/assets/colab-badge.svg\" alt=\"Open In Colab\"/></a>"
      ]
    },
    {
      "cell_type": "markdown",
      "source": [
        "# OPERADORES DE IDENTIDADE\n",
        "São operadores para comparar se os dois objetos testados ocupam a mesma posição na memória."
      ],
      "metadata": {
        "id": "pNAvsoEYxsTH"
      }
    },
    {
      "cell_type": "code",
      "execution_count": 1,
      "metadata": {
        "colab": {
          "base_uri": "https://localhost:8080/"
        },
        "id": "4Ov0pPkyxkZs",
        "outputId": "14d6ceea-c867-4e20-fd70-b897d0c7c11f"
      },
      "outputs": [
        {
          "output_type": "stream",
          "name": "stdout",
          "text": [
            "True\n",
            "False\n",
            "True\n"
          ]
        }
      ],
      "source": [
        "curso = \"Curso de Python\"\n",
        "nome_curso = curso\n",
        "saldo, limite = 200, 200\n",
        "\n",
        "print(curso is nome_curso)\n",
        "print(curso is not nome_curso)\n",
        "print(saldo is limite)"
      ]
    }
  ]
}