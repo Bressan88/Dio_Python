{
  "nbformat": 4,
  "nbformat_minor": 0,
  "metadata": {
    "colab": {
      "provenance": [],
      "authorship_tag": "ABX9TyONAi8VriIoAv0iv0mQyNLD"
    },
    "kernelspec": {
      "name": "python3",
      "display_name": "Python 3"
    },
    "language_info": {
      "name": "python"
    }
  },
  "cells": [
    {
      "cell_type": "markdown",
      "source": [
        "# **PROGRAMAÇÃO ORIENTADA A OBJETOS**\n",
        "## PARADIGMAS DE PROGRAMAÇÃO\n",
        "Um paradigma de programação é um estilo de programação. Não é uma linguagem (Python, Java, C, etc) e sim a forma como você soluciona os problemas através do código.\n",
        "\n",
        "### Alguns paradigmas\n",
        "- Imperativo ou procedural\n",
        "- Funcinal\n",
        "- Orientado a eventos\n",
        "\n",
        "## POO\n",
        "O paradigma de programação orientada a objetos estrutura o código abstraindo problemas em objetos do mundo real, facilitando o entendimento do código e tornando-o mais modular e extensível. Os dois conceitos chaves para aprender POO são:\n",
        "- Classes;\n",
        "- Objetos.\n"
      ],
      "metadata": {
        "id": "Ga9QeV8FDGon"
      }
    },
    {
      "cell_type": "markdown",
      "source": [
        "# **CLASSES E OBJETOS**\n",
        "Uma classe define as características e comportamentos de um objeto, porém não conseguimos usá-las diretamente. Já os objetos podemos usá-los e eles possuem as características e comportamentos que foram definidos nas classes."
      ],
      "metadata": {
        "id": "iAhbBVHaFF4n"
      }
    },
    {
      "cell_type": "code",
      "execution_count": 1,
      "metadata": {
        "colab": {
          "base_uri": "https://localhost:8080/"
        },
        "id": "fdtKyX6lC1-B",
        "outputId": "19bc1747-3af0-4890-9c84-575cb174465e"
      },
      "outputs": [
        {
          "output_type": "stream",
          "name": "stdout",
          "text": [
            "AuAu\n",
            "True\n",
            "Zzzzz...\n",
            "False\n"
          ]
        }
      ],
      "source": [
        "class Cachorro:\n",
        "\n",
        "  def __init__(self, nome, cor, acordado=True):\n",
        "    self.nome = nome\n",
        "    self.cor = cor\n",
        "    self.acordado = acordado\n",
        "\n",
        "  def latir(self):\n",
        "    print('AuAu')\n",
        "\n",
        "  def dormir(self):\n",
        "    self.acordado = False\n",
        "    print('Zzzzz...')\n",
        "\n",
        "cao_1 = Cachorro('chappie', 'amarelo', False)\n",
        "cao_2 = Cachorro('Neo','caramelo e branco')\n",
        "\n",
        "cao_1.latir()\n",
        "print(cao_2.acordado)\n",
        "cao_2.dormir()\n",
        "print(cao_2.acordado)"
      ]
    },
    {
      "cell_type": "markdown",
      "source": [
        "### Primeiro programa em POO\n",
        "João tem uma bicicletaria e gostaria de registrar as vendas de suas bicicletas. Crie um programa onde João informe: cor, modelo, ano e valor da bicicleta vendida. Uma bicicleta pode: buzinas, parar e correr. Adicione esses comportamentos."
      ],
      "metadata": {
        "id": "ChRcL-hPJ7Xo"
      }
    },
    {
      "cell_type": "code",
      "source": [
        "class Bicicleta:\n",
        "\n",
        "  def __init__(self, cor, modelo, ano, valor):\n",
        "    self.cor = cor\n",
        "    self.modelo = modelo\n",
        "    self.ano = ano\n",
        "    self.valor = valor\n",
        "    self.marcha = 1\n",
        "\n",
        "  def buzinar(self):\n",
        "    print('Plim plim...')\n",
        "\n",
        "  def parar(self):\n",
        "    print('Parando biciclieta...')\n",
        "    print('Bicicleta parada.')\n",
        "\n",
        "  def correr(self):\n",
        "    print('Vrummm...')\n",
        "\n",
        "  def get_cor(self):\n",
        "    return self.cor\n",
        "\n",
        "  def trocar_marcha(self, nro_marcha):\n",
        "    print(\"Trocando marcha...\")\n",
        "    _self = self\n",
        "    def _trocar_marcha():\n",
        "      if nro_marcha > _self.marcha:\n",
        "        print('Marcha trocada')\n",
        "\n",
        "      else:\n",
        "        print('Marcha não trocada')\n",
        "\n",
        "  def __str__(self):\n",
        "    #return f'Bicicleta: cor={self.cor}, modelo={self.modelo}, ano={self.ano}, valor={self.valor}'\n",
        "    return f\"{self.__class__.__name__}: {', '.join([f'{chave}={valor}' for chave, valor in self.__dict__.items()])}\"\n",
        "\n",
        "b1 = Bicicleta('azul','caloi',2015,800)\n",
        "b2 = Bicicleta('amarelo','monark',2000,200)\n",
        "\n",
        "b1.buzinar()\n",
        "Bicicleta.buzinar(b1)\n",
        "\n",
        "b1.get_cor()\n",
        "print(b1)\n",
        "b1.trocar_marcha(2)\n",
        "b1.trocar_marcha(1)"
      ],
      "metadata": {
        "colab": {
          "base_uri": "https://localhost:8080/"
        },
        "id": "_yBqjfE7N458",
        "outputId": "b5ac46eb-a699-4c53-cd84-33ba31b0deaa"
      },
      "execution_count": 24,
      "outputs": [
        {
          "output_type": "stream",
          "name": "stdout",
          "text": [
            "Plim plim...\n",
            "Plim plim...\n",
            "Bicicleta: cor=azul, modelo=caloi, ano=2015, valor=800, marcha=1\n",
            "Trocando marcha...\n",
            "Trocando marcha...\n"
          ]
        }
      ]
    },
    {
      "cell_type": "markdown",
      "source": [
        "# **CONSTRUTORES E DESTRUTORES**\n",
        "## MÉTODO CONSTRUTOR\n",
        "O método construtor sempre é executado quando uma nova instância da classe é criada. nesse método inicializamos o estado do nosso objeto. Para declarar o método construtor da classe, criamos um método com o nome __ int __."
      ],
      "metadata": {
        "id": "Gg2csmW3KiXC"
      }
    },
    {
      "cell_type": "code",
      "source": [
        "class Cachorro:\n",
        "  def __init__(self, nome, cor, acordado=True):\n",
        "    self.nome = nome\n",
        "    self.cor = cor\n",
        "    self.acordado = acordado"
      ],
      "metadata": {
        "id": "ZUoEdjJCLn53"
      },
      "execution_count": null,
      "outputs": []
    },
    {
      "cell_type": "markdown",
      "source": [
        "## MÉTODO DESTRUTOR\n",
        "O método destrutor sempre é executado quando uma instância (objeto) é destruída. Destrutores em Python não são tão necccessários quanto em C++ porque o Python tem um coletor de lixo que lida com o gerenciamento de memória automaticamente. Para declarar o método destrutor da classe, criamos um método com o nome __ del __."
      ],
      "metadata": {
        "id": "6G6XWlROL738"
      }
    },
    {
      "cell_type": "code",
      "source": [
        "class Cachorro:\n",
        "  def __init__(self, nome, cor, acordado=True):\n",
        "    print('Inicializando a classe...')\n",
        "    self.nome = nome\n",
        "    self.cor = cor\n",
        "    self.acordado = acordado\n",
        "\n",
        "  def __del__(self):\n",
        "    print(f'Objeto {self} destruído')\n",
        "\n",
        "  def falar(self):\n",
        "    print('Auau')\n",
        "\n",
        "def criar_cachorro():\n",
        "  dog2 = Cachorro('Zeus','Branco e Preto')\n",
        "  print(dog2.nome)\n",
        "\n",
        "dog1 = Cachorro('Flocos','branco')\n",
        "dog1.falar()\n",
        "del dog1"
      ],
      "metadata": {
        "colab": {
          "base_uri": "https://localhost:8080/"
        },
        "id": "ybI55BFAMXhP",
        "outputId": "3e39eb66-1d55-47b8-9fcb-ef186e3a6374"
      },
      "execution_count": 11,
      "outputs": [
        {
          "output_type": "stream",
          "name": "stdout",
          "text": [
            "Inicializando a classe...\n",
            "Auau\n",
            "Objeto <__main__.Cachorro object at 0x7dfe37040690> destruído\n"
          ]
        }
      ]
    }
  ]
}