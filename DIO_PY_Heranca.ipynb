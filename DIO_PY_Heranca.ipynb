{
  "nbformat": 4,
  "nbformat_minor": 0,
  "metadata": {
    "colab": {
      "provenance": [],
      "authorship_tag": "ABX9TyP7u87piAsiDq6ijF44yBLD"
    },
    "kernelspec": {
      "name": "python3",
      "display_name": "Python 3"
    },
    "language_info": {
      "name": "python"
    }
  },
  "cells": [
    {
      "cell_type": "markdown",
      "source": [
        "# **HERANÇA**\n",
        "Em programação herança é a capacidade de uma classe filha derivar ou herdar as características e comportamentos da classe pai (base).\n",
        "\n",
        "## **BENEFÍCIOS DA HERANÇA**\n",
        "- Representa bem os relacionamentos do mundo real.\n",
        "- Fornece reutilização de código, não precisamos escrever o mesmo código repetidamente. Além disso, permite adicionar mais recursos a uma classe sem modificá-la.\n",
        "- É de natureza transitiva, o que significa que, se a classe B herdar da classe A, todas as subclasses de B herdarão automaticamente da classe A."
      ],
      "metadata": {
        "id": "A3wZlNS5jniz"
      }
    },
    {
      "cell_type": "code",
      "execution_count": null,
      "metadata": {
        "id": "2JKHOfy-jdtR"
      },
      "outputs": [],
      "source": [
        "class A:\n",
        "  pass\n",
        "\n",
        "class B(A):\n",
        "  pass"
      ]
    },
    {
      "cell_type": "markdown",
      "source": [
        "## **Herança simples**\n",
        "Quando uma classe filha herda apenas uma classe pai, ela é chamada de **herança simples**.\n",
        "```\n",
        "class A:\n",
        "  pass\n",
        "class B(A):\n",
        "  pass\n",
        "```\n",
        "## **Herança múltipla**\n",
        "Quando uma classe filha herda várias classes pai, ela é chamada de henraça múltipla.\n",
        "```\n",
        "class A:\n",
        "  pass\n",
        "class B:\n",
        "  pass\n",
        "class C(A, B):\n",
        "  pass\n",
        "```"
      ],
      "metadata": {
        "id": "aOahVU53lQv-"
      }
    },
    {
      "cell_type": "code",
      "source": [
        "# =============================\n",
        "# > HERANÇA SIMPLES\n",
        "# =============================\n",
        "\n",
        "class Veiculo:\n",
        "  def __init__(self, cor, placa, numero_rodas):\n",
        "    self.cor = cor\n",
        "    self.placa = placa\n",
        "    self.numero_rodas = numero_rodas\n",
        "\n",
        "  def ligar_motor(self):\n",
        "    print(\"Ligando o motor...\")\n",
        "\n",
        "  def __str__(self):\n",
        "    return f\"{self.__class__.__name__}: {', '.join([f'{chave}={valor}' for chave, valor in self.__dict__.items()])}\"\n",
        "\n",
        "class Motocicleta(Veiculo):\n",
        "  pass\n",
        "\n",
        "class Carro(Veiculo):\n",
        "  pass\n",
        "\n",
        "class Caminhao(Veiculo):\n",
        "  def __init__(self, cor, placa, numero_rodas, carregado):\n",
        "    super().__init__(cor, placa, numero_rodas) # Chama a implementação da classe pai.\n",
        "    self.carregado = carregado\n",
        "\n",
        "  def esta_carregado(self):\n",
        "    print(f\"{'Sim' if self.carregado else 'Não'} está carregado.\")\n",
        "\n",
        "\n",
        "moto = Motocicleta('Azul','ABC-1234',2)\n",
        "carro = Carro('Branco','XYZ-6789', 4)\n",
        "caminhao = Caminhao('Vermelho','GHI-4567',8,False)\n",
        "caminhao.ligar_motor()\n",
        "\n",
        "print(carro)\n",
        "print(moto)\n",
        "print(caminhao)\n",
        "\n",
        "\n",
        "\n",
        "\n",
        "\n",
        "\n",
        "\n"
      ],
      "metadata": {
        "colab": {
          "base_uri": "https://localhost:8080/"
        },
        "id": "3MzZv9Pylzbt",
        "outputId": "f7411dff-adff-4eb9-aa58-09f14c0ef8e4"
      },
      "execution_count": 14,
      "outputs": [
        {
          "output_type": "stream",
          "name": "stdout",
          "text": [
            "Ligando o motor...\n",
            "Carro: cor=Branco, placa=XYZ-6789, numero_rodas=4\n",
            "Motocicleta: cor=Azul, placa=ABC-1234, numero_rodas=2\n",
            "Caminhao: cor=Vermelho, placa=GHI-4567, numero_rodas=8, carregado=False\n"
          ]
        }
      ]
    },
    {
      "cell_type": "markdown",
      "source": [
        "## **HERANÇA MÚLTIPLA**"
      ],
      "metadata": {
        "id": "klZylXpAwguc"
      }
    },
    {
      "cell_type": "code",
      "source": [
        "class Animal:\n",
        "  def __init__(self, nro_patas):\n",
        "    self.nro_patas = nro_patas\n",
        "\n",
        "  def __str__(self):\n",
        "    return f\"{self.__class__.__name__}: {', '.join([f'{chave}={valor}' for chave, valor in self.__dict__.items()])}\"\n",
        "\n",
        "class Mamifero(Animal):\n",
        "  def __init__(self, cor_pelo, **kw):\n",
        "    self.cor_pelo = cor_pelo\n",
        "    # super().__init__(nro_patas=kw['nro_patas'])\n",
        "    super().__init__(**kw)\n",
        "\n",
        "  def __str__(self):\n",
        "    #return self.__class__.__name__\n",
        "    return 'Mamifero'\n",
        "\n",
        "class Ave(Animal):\n",
        "  def __init__(self, cor_bico, **kw):\n",
        "    self.cor_bico = cor_bico\n",
        "    super().__init__(**kw)\n",
        "\n",
        "  def __str__(self):\n",
        "    return \"Aveeeeeee\"\n",
        "\n",
        "class Gato(Mamifero):\n",
        "  pass\n",
        "\n",
        "class FalarMixin:\n",
        "  def falar(self):\n",
        "    return 'Oi estou falando'\n",
        "\n",
        "\n",
        "class Ornitorrinco(Mamifero, Ave, FalarMixin):\n",
        "  def __init__(self, cor_bico, cor_pelo, nro_patas):\n",
        "    print(Ornitorrinco.__mro__)\n",
        "    print(Ornitorrinco.mro())\n",
        "    super().__init__(cor_pelo=cor_pelo, cor_bico=cor_bico, nro_patas=nro_patas)\n",
        "\n",
        "  def __str__(self):\n",
        "    return \"Ornitorrincooo\"\n",
        "\n",
        "#class Leao(Mamifero):\n",
        "#  pass\n",
        "\n",
        "#class Cachorro(Mamifero):\n",
        "#  pass\n",
        "\n",
        "gato = Gato(nro_patas=4,cor_pelo='Amarelo')\n",
        "print(gato.nro_patas)\n",
        "print(gato)\n",
        "\n",
        "ornitorrinco = Ornitorrinco(nro_patas=2,cor_pelo='vermelho',cor_bico='laranja')\n",
        "print(ornitorrinco)\n",
        "print(ornitorrinco.falar())"
      ],
      "metadata": {
        "colab": {
          "base_uri": "https://localhost:8080/"
        },
        "id": "EfF6C4uzxx0C",
        "outputId": "71129ad8-440b-4ef2-f3dc-e37dc54336f8"
      },
      "execution_count": 34,
      "outputs": [
        {
          "output_type": "stream",
          "name": "stdout",
          "text": [
            "4\n",
            "Mamifero\n",
            "(<class '__main__.Ornitorrinco'>, <class '__main__.Mamifero'>, <class '__main__.Ave'>, <class '__main__.Animal'>, <class '__main__.FalarMixin'>, <class 'object'>)\n",
            "[<class '__main__.Ornitorrinco'>, <class '__main__.Mamifero'>, <class '__main__.Ave'>, <class '__main__.Animal'>, <class '__main__.FalarMixin'>, <class 'object'>]\n",
            "Ornitorrincooo\n",
            "Oi estou falando\n"
          ]
        }
      ]
    }
  ]
}