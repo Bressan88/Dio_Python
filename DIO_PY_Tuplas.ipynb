{
  "nbformat": 4,
  "nbformat_minor": 0,
  "metadata": {
    "colab": {
      "provenance": [],
      "authorship_tag": "ABX9TyNdyqyGwsGQR8p275RTHLsd",
      "include_colab_link": true
    },
    "kernelspec": {
      "name": "python3",
      "display_name": "Python 3"
    },
    "language_info": {
      "name": "python"
    }
  },
  "cells": [
    {
      "cell_type": "markdown",
      "metadata": {
        "id": "view-in-github",
        "colab_type": "text"
      },
      "source": [
        "<a href=\"https://colab.research.google.com/github/Bressan88/Dio_Python/blob/main/DIO_PY_Tuplas.ipynb\" target=\"_parent\"><img src=\"https://colab.research.google.com/assets/colab-badge.svg\" alt=\"Open In Colab\"/></a>"
      ]
    },
    {
      "cell_type": "markdown",
      "source": [
        "## **TUPLAS**\n",
        "Tuplas são estruturas de dados muito parecidas com as listas, a principal diferença é que tuplas são imutáveis enquanto listas são mutáveis. Podemos crias tuplas através da classe ***tuple***, ou colocando valores separados por vírgula de parenteses.\n",
        "\n"
      ],
      "metadata": {
        "id": "l6jraFqZXCZD"
      }
    },
    {
      "cell_type": "code",
      "execution_count": null,
      "metadata": {
        "id": "V8242kBrWT8A"
      },
      "outputs": [],
      "source": [
        "# Exemplo\n",
        "frutas = ('laranja','pera','uva',)\n",
        "letras = tuple('python')\n",
        "numeros = tuple([1,2,3,4])\n",
        "pais = ('Brasil',)"
      ]
    },
    {
      "cell_type": "markdown",
      "source": [
        "## **Acesso direto**\n",
        "A tupla é uma sequência, portanto podemos acessar seus dados utilizando índices. Conta-se o índice de determinada sequência a partir do zero."
      ],
      "metadata": {
        "id": "_qVf0dHDY30f"
      }
    },
    {
      "cell_type": "code",
      "source": [
        "# Exemplo\n",
        "frutas = ('laranja','pera','uva','maca')\n",
        "print(frutas[0])\n",
        "print(frutas[2])\n",
        "print(frutas[-1])\n",
        "print(frutas[-3])"
      ],
      "metadata": {
        "colab": {
          "base_uri": "https://localhost:8080/"
        },
        "id": "hZn4HMfbZFa0",
        "outputId": "f55971b3-0543-400e-c7df-e42e3594dd26"
      },
      "execution_count": 2,
      "outputs": [
        {
          "output_type": "stream",
          "name": "stdout",
          "text": [
            "laranja\n",
            "uva\n",
            "maca\n",
            "pera\n"
          ]
        }
      ]
    }
  ]
}