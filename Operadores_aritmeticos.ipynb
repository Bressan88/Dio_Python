{
  "nbformat": 4,
  "nbformat_minor": 0,
  "metadata": {
    "colab": {
      "provenance": [],
      "authorship_tag": "ABX9TyO5JPGy7O6igFYLNor5/9Wc",
      "include_colab_link": true
    },
    "kernelspec": {
      "name": "python3",
      "display_name": "Python 3"
    },
    "language_info": {
      "name": "python"
    }
  },
  "cells": [
    {
      "cell_type": "markdown",
      "metadata": {
        "id": "view-in-github",
        "colab_type": "text"
      },
      "source": [
        "<a href=\"https://colab.research.google.com/github/Bressan88/Dio_Python/blob/main/Operadores_aritmeticos.ipynb\" target=\"_parent\"><img src=\"https://colab.research.google.com/assets/colab-badge.svg\" alt=\"Open In Colab\"/></a>"
      ]
    },
    {
      "cell_type": "markdown",
      "source": [
        "# OPERADORES ARITMETICOS\n",
        "Executam operações matemáticas como adição, subtração, divisão, multiplicação, etc."
      ],
      "metadata": {
        "id": "koOPXw2oHnCi"
      }
    },
    {
      "cell_type": "code",
      "execution_count": 6,
      "metadata": {
        "colab": {
          "base_uri": "https://localhost:8080/"
        },
        "id": "rBmcwoviF_yl",
        "outputId": "e07cb69d-8bcc-4caf-9ae4-d1e7efe5c92e"
      },
      "outputs": [
        {
          "output_type": "stream",
          "name": "stdout",
          "text": [
            "2\n",
            "8\n",
            "12\n",
            "4.0\n",
            "6.0\n"
          ]
        }
      ],
      "source": [
        "# Adição\n",
        "print(1+1)\n",
        "\n",
        "# Subtração\n",
        "print(10-2)\n",
        "\n",
        "# Multiplicação\n",
        "print(4*3)\n",
        "\n",
        "# Divisão\n",
        "print(12/3)\n",
        "\n",
        "# Divisão inteira\n",
        "print(12/2)\n",
        "\n",
        "# Módulo (resto de uma divisão)\n",
        "print(10 % 3)\n",
        "\n",
        "# Exponenciação\n",
        "print(2 ** 3)"
      ]
    }
  ]
}