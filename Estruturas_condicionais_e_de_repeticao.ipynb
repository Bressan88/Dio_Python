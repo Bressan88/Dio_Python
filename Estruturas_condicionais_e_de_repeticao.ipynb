{
  "nbformat": 4,
  "nbformat_minor": 0,
  "metadata": {
    "colab": {
      "provenance": [],
      "authorship_tag": "ABX9TyM45U/w9pQvCg28jlSwPCUt",
      "include_colab_link": true
    },
    "kernelspec": {
      "name": "python3",
      "display_name": "Python 3"
    },
    "language_info": {
      "name": "python"
    }
  },
  "cells": [
    {
      "cell_type": "markdown",
      "metadata": {
        "id": "view-in-github",
        "colab_type": "text"
      },
      "source": [
        "<a href=\"https://colab.research.google.com/github/Bressan88/Dio_Python/blob/main/Estruturas_condicionais_e_de_repeticao.ipynb\" target=\"_parent\"><img src=\"https://colab.research.google.com/assets/colab-badge.svg\" alt=\"Open In Colab\"/></a>"
      ]
    },
    {
      "cell_type": "markdown",
      "source": [
        "# IDENTAÇÃO E BLOCOS\n",
        "Identar código é uma forma de manter o código fonte mais legível e manutenível. Mas em Python ela exerce um segundo papel, através da indentação o interpretador consegue determinar onde um bloco de comando inicia e onde  ele termina.\n"
      ],
      "metadata": {
        "id": "axykPh9IHPsb"
      }
    },
    {
      "cell_type": "markdown",
      "source": [
        "# 2. **ESTRUTURAS CONDICIONAIS**\n",
        "Permitem o desvio de fluxo de controle, quando determinadas expressões lógicas são atendidas.\n",
        "\n",
        "## 2.1. **if**\n",
        "Estrutura condicional simples.\n",
        "\n",
        "▶ ***if***: Palavra reservada.\n",
        "\n",
        "Em caso de retorno verdadeiro as ações presentes no bloco de código do ***if*** serão executadas.\n"
      ],
      "metadata": {
        "id": "5L8ztBXGfIPU"
      }
    },
    {
      "cell_type": "code",
      "execution_count": null,
      "metadata": {
        "id": "i9IRo1VBCPst"
      },
      "outputs": [],
      "source": [
        "saldo = 2000\n",
        "saque = float(input(\"Informe o valor do saque: \"))\n",
        "\n",
        "if saldo >= saque:\n",
        "  print(\"Realizando saque!\")\n",
        "\n",
        "if saldo < saque:\n",
        "  print(\"Saldo insuficiente\")"
      ]
    },
    {
      "cell_type": "markdown",
      "source": [
        "## 2.2. **if/else**\n",
        "Estrutura condicional com dois desvios, podemos utilizar as palavras reservadas ***if*** e ***else***. Como sabemos se a expressão lógica testada no ***if*** for verdadeira, então o bloco de código do ***if*** será executado. Caso contrário o bloco de código do ***else*** será executado."
      ],
      "metadata": {
        "id": "u0Mz7psqhHMV"
      }
    },
    {
      "cell_type": "code",
      "source": [
        "saldo = 2000\n",
        "saque = float(input(\"Informe o valor do saque: \"))\n",
        "\n",
        "if saldo >= saque:\n",
        "  print(\"Realizando saque!\")\n",
        "\n",
        "else:\n",
        "  print(\"Saldo insuficiente\")"
      ],
      "metadata": {
        "id": "XweNvQ1GhpuO"
      },
      "execution_count": null,
      "outputs": []
    },
    {
      "cell_type": "markdown",
      "source": [
        "## 2.3. **if/elif/else**\n",
        "Em cenário com mais de dois desvios, pode-se utilizar a palavra reservada ***elif***. Esta será testada e caso retorno verdadeiro, o bloco de código do ***elif*** será executado. Não existe um número máximo de ***elif*** que se possa utilizar."
      ],
      "metadata": {
        "id": "f7sFrXpGiBRw"
      }
    },
    {
      "cell_type": "code",
      "source": [
        "opcao = int(input(\"Infrome uma opção:\\n[1] Sacar\\n[2] Extrato\\n\"))\n",
        "\n",
        "if opcao == 1:\n",
        "  valor = float(input(\"Informe a quantia para o saque: \"))\n",
        "\n",
        "elif opcao == 2:\n",
        "  print(\"Exibindo o extrato...\")\n",
        "\n",
        "else:\n",
        "  sys.exit(\"Opção inválida\")"
      ],
      "metadata": {
        "colab": {
          "base_uri": "https://localhost:8080/"
        },
        "id": "4Wd3aGWfitMJ",
        "outputId": "29ff68e5-3fb9-438b-bbce-ecc510e8ffd9"
      },
      "execution_count": 4,
      "outputs": [
        {
          "name": "stdout",
          "output_type": "stream",
          "text": [
            "Infrome uma opção:\n",
            "[1] Sacar\n",
            "[2] Extrato\n",
            "1\n",
            "Informe a quantia para o saque: 100\n"
          ]
        }
      ]
    },
    {
      "cell_type": "code",
      "source": [
        "MAIOR_IDADE = 18\n",
        "IDADE_ESPECIAL = 17\n",
        "\n",
        "idade = int(input(\"Informe a sua idade: \"))\n",
        "\n",
        "if idade >= 18:\n",
        "  print(\"Maior de idade, pode tirar a CNH.\")\n",
        "\n",
        "if idade < 18:\n",
        "  print(\"Ainda não pode tirar a CNH.\")\n",
        "# ---------------------------------------------\n",
        "if idade >= 18:\n",
        "  print(\"Maior de idade, pode tirar a CNH.\")\n",
        "\n",
        "else:\n",
        "  print(\"Ainda não pode tirar a CNH.\")\n",
        "# ---------------------------------------------\n",
        "if idade >= 18:\n",
        "  print(\"Maior de idade, pode tirar a CNH.\")\n",
        "\n",
        "elif IDADE_ESPECIAL == idade:\n",
        "  print(\"Pode fazer aulas teóricas, mas não pode fazer aulas práticas.\")\n",
        "\n",
        "else:\n",
        "  print(\"Ainda não pode tirar a CNH.\")"
      ],
      "metadata": {
        "colab": {
          "base_uri": "https://localhost:8080/"
        },
        "id": "HyC3-0Oum7x1",
        "outputId": "730b4240-88e1-4376-a9f8-9e98592a8584"
      },
      "execution_count": 10,
      "outputs": [
        {
          "output_type": "stream",
          "name": "stdout",
          "text": [
            "Informe a sua idade: 16\n",
            "Ainda não pode tirar a CNH.\n",
            "Ainda não pode tirar a CNH.\n",
            "Ainda não pode tirar a CNH.\n"
          ]
        }
      ]
    },
    {
      "cell_type": "markdown",
      "source": [
        "## 2.4. **IF ALINHADO**\n",
        "Podemos criar estruturas condicionais aninhadas, para isso basta adicionar estruturas ***if/elif/else*** dentro do bloco de código de estruturas ***if/elif/else***.\n",
        "\n",
        "```\n",
        "if conta_normal:\n",
        "  if saldo >= saque:\n",
        "    print(\"Saque realizado com sucesso!\")\n",
        "  elif saque <= (saldo + cheque_especial):\n",
        "    print(\"Saque realizado com uso do cheque especial\")\n",
        "\n",
        "elif conta_universitaria:\n",
        "  if saldo >= saque:\n",
        "    print(\"Saque realizado com sucesso!\")\n",
        "  else:\n",
        "    print(\"Saldo insuficiente!\")\n",
        "```"
      ],
      "metadata": {
        "id": "G7YXfcmWr1ea"
      }
    },
    {
      "cell_type": "code",
      "source": [
        "conta_normal = True\n",
        "conta_universitaria = False\n",
        "\n",
        "saldo = 2000\n",
        "saque = 2500\n",
        "cheque_especial = 450\n",
        "\n",
        "if conta_normal:\n",
        "  if saldo >= saque:\n",
        "    print(\"Saque realizado com sucesso!\")\n",
        "  elif saque <= (saldo + cheque_especial):\n",
        "    print(\"Saque realizado com uso do cheque especial\")\n",
        "  else:\n",
        "    print(\"Não foi possível realizar o saque. Saldo insuficiente!\")\n",
        "\n",
        "elif conta_universitaria:\n",
        "  if saldo >= saque:\n",
        "    print(\"Saque realizado com sucesso!\")\n",
        "  else:\n",
        "    print(\"Saldo insuficiente!\")\n",
        "\n",
        "else:\n",
        "  print(\"Sistema não reconheceu seu tipo de conta. Favor entrar em contato com o seu gerente\")"
      ],
      "metadata": {
        "id": "jpyH11Lhs-3s"
      },
      "execution_count": null,
      "outputs": []
    },
    {
      "cell_type": "markdown",
      "source": [
        "## 2.5. **IF TERNÁRIO**\n",
        "Permite escrever uma condição em uma única linha. ele é compsosto por três partes. A primeira parte é o retorno, caso a expressão retorne verdadeiro, a segunda parte é a expressão lógica e a terceira parte é o retorno cas oa expressão não seja atendida."
      ],
      "metadata": {
        "id": "dc8Pk-9st9zL"
      }
    },
    {
      "cell_type": "code",
      "source": [
        "saldo = 1000\n",
        "saque = 500\n",
        "\n",
        "status = \"Sucesso\" if saldo >= saque else \"Falha\"\n",
        "\n",
        "print(f\"{status} ao realizar o saque!\")"
      ],
      "metadata": {
        "colab": {
          "base_uri": "https://localhost:8080/"
        },
        "id": "9XKE7MW7ucyo",
        "outputId": "a71d9412-2932-412f-8336-c5922650f84f"
      },
      "execution_count": 14,
      "outputs": [
        {
          "output_type": "stream",
          "name": "stdout",
          "text": [
            "Sucesso ao realizar o saque!\n"
          ]
        }
      ]
    },
    {
      "cell_type": "markdown",
      "source": [
        "https://github.com/guicarvalho/trilha-python-dio"
      ],
      "metadata": {
        "id": "CvnwHyUcvQIZ"
      }
    },
    {
      "cell_type": "markdown",
      "source": [
        "# 3. **ESTRUTURAS DE REPETIÇÃO**\n",
        "São estruturas utilizadas para repetir um trecfho de código um determinado número de vezes. Esse número pode ser conhecido previamente ou determinado através de uma expressão lógica."
      ],
      "metadata": {
        "id": "aOJinM8NxrHX"
      }
    },
    {
      "cell_type": "code",
      "source": [
        "# Recebe um número do teclado e exibe os 2 números seguintes.\n",
        "a = int(input(\"Informe um numero inteiro: \"))\n",
        "\n",
        "a += 1\n",
        "print(a)\n",
        "\n",
        "a += 1\n",
        "print(a)"
      ],
      "metadata": {
        "colab": {
          "base_uri": "https://localhost:8080/"
        },
        "id": "nzWVnmCayDgO",
        "outputId": "ccb3f04b-7550-46ba-caac-ce6d1dfa8bb0"
      },
      "execution_count": 15,
      "outputs": [
        {
          "output_type": "stream",
          "name": "stdout",
          "text": [
            "Informe um numero inteiro: 5\n",
            "6\n",
            "7\n"
          ]
        }
      ]
    },
    {
      "cell_type": "markdown",
      "source": [
        "## 3.1. **Comando FOR**\n",
        "O comando ***for*** é utilizado para percorrer um objeto iterável. Faz sentido usar ***for*** quando sabemos o número exato de vezes que nosso bloco de código deve ser executado, ou quando queremos percorrer um objeto iterável."
      ],
      "metadata": {
        "id": "G-pbP9n_zZoR"
      }
    },
    {
      "cell_type": "code",
      "source": [
        "# Uma string é um objeto iterável\n",
        "texto = input(\"Informe um texto: \")\n",
        "VOGAIS = \"AEIOU\"\n",
        "\n",
        "for letra in texto:\n",
        "  if letra.upper() in VOGAIS:\n",
        "    print(letra, end=\"\")\n",
        "\n",
        "# Neste caso este ELSE é executado ao final do laço do for.\n",
        "else:\n",
        "  print()\n",
        "  print(\"Executa no final do laço.\") # Adiciona uma quebra de linha"
      ],
      "metadata": {
        "colab": {
          "base_uri": "https://localhost:8080/"
        },
        "id": "dEV3rzCJz9V8",
        "outputId": "a19cd5bf-cac2-477f-b904-db80cc7dd9c4"
      },
      "execution_count": 3,
      "outputs": [
        {
          "output_type": "stream",
          "name": "stdout",
          "text": [
            "Informe um texto: Bressan\n",
            "ea\n",
            "Executa no final do laço.\n"
          ]
        }
      ]
    },
    {
      "cell_type": "markdown",
      "source": [
        "## 3.2. **RANGE**\n",
        "Função built-in do Python, é usada para produzir uma sequência de númerosinteiros a partir de um início (inclusivo) para um fim (exclusivo). Se usarmos ***range(i,j)*** será produzido: i, i+1, i+2, ..., j-1.\n",
        "\n",
        "Recebe 3 argumentos:\n",
        "- stop (obrigatório);\n",
        "- start (opcional);\n",
        "- step (opcional).\n",
        "\n"
      ],
      "metadata": {
        "id": "Lhd1jLBmRr3c"
      }
    },
    {
      "cell_type": "code",
      "source": [
        "# range(stop) ----------------> range object\n",
        "# range(start, stop[, step]) -> range object\n",
        "\n",
        "print(list(range(4)))\n",
        "print(range(3))\n",
        "print(list(range(1,8)))"
      ],
      "metadata": {
        "colab": {
          "base_uri": "https://localhost:8080/"
        },
        "id": "_6CbSllwTtm2",
        "outputId": "3c11567f-21ca-418c-d0ef-9f757a2422e8"
      },
      "execution_count": 7,
      "outputs": [
        {
          "output_type": "stream",
          "name": "stdout",
          "text": [
            "[0, 1, 2, 3]\n",
            "range(0, 3)\n",
            "[1, 2, 3, 4, 5, 6, 7]\n"
          ]
        }
      ]
    },
    {
      "cell_type": "code",
      "source": [
        "for numero in range(0, 11):\n",
        "  print(numero, end=\" \")\n",
        "\n",
        "print(\" \")\n",
        "\n",
        "for numero in range(0, 51, 5):\n",
        "  print(numero, end=\" \")"
      ],
      "metadata": {
        "colab": {
          "base_uri": "https://localhost:8080/"
        },
        "id": "7xDLBTuBUo07",
        "outputId": "6f84c47b-db59-4b95-fa07-562bb2b5a7e4"
      },
      "execution_count": 9,
      "outputs": [
        {
          "output_type": "stream",
          "name": "stdout",
          "text": [
            "0 1 2 3 4 5 6 7 8 9 10  \n",
            "0 5 10 15 20 25 30 35 40 45 50 "
          ]
        }
      ]
    },
    {
      "cell_type": "markdown",
      "source": [
        "## 3.3. **WHILE**\n",
        "O comando ***while*** é usado para repetir um bloco de código várias vezes. Faz sentido usar ***while*** quando não se sabe o número exato de vezes que nosso bloco de código deve ser executado."
      ],
      "metadata": {
        "id": "2b4R7fzZVvMd"
      }
    },
    {
      "cell_type": "code",
      "source": [
        "opcao = -1\n",
        "\n",
        "while opcao != 0:\n",
        "  opcao = int(input(\"[1] Sacar\\n[2] Extrato\\n[0] Sair\\n\"))\n",
        "\n",
        "  if opcao == 1:\n",
        "    print(\"Sacando...\")\n",
        "\n",
        "  elif opcao == 2:\n",
        "    print(\"Exibindo o extrato...\")"
      ],
      "metadata": {
        "colab": {
          "base_uri": "https://localhost:8080/"
        },
        "id": "RgXGYrpRWJVO",
        "outputId": "34e4224d-a38f-4983-cf70-9f8e2a25c10f"
      },
      "execution_count": 10,
      "outputs": [
        {
          "name": "stdout",
          "output_type": "stream",
          "text": [
            "[1] Sacar\n",
            "[2] Extrato\n",
            "[0] Sair\n",
            "1\n",
            "Sacando...\n",
            "[1] Sacar\n",
            "[2] Extrato\n",
            "[0] Sair\n",
            "2\n",
            "Exibindo o extrato...\n",
            "[1] Sacar\n",
            "[2] Extrato\n",
            "[0] Sair\n",
            "0\n"
          ]
        }
      ]
    },
    {
      "cell_type": "code",
      "source": [
        "opcao = -1\n",
        "\n",
        "while opcao != 0:\n",
        "  opcao = int(input(\"[1] Sacar\\n[2] Extrato\\n[0] Sair\\n\"))\n",
        "\n",
        "  if opcao == 1:\n",
        "    print(\"Sacando...\")\n",
        "\n",
        "  elif opcao == 2:\n",
        "    print(\"Exibindo o extrato...\")\n",
        "\n",
        "else:\n",
        "  print(\"Obrigado por utilizar o nosso sistema bancário\")"
      ],
      "metadata": {
        "colab": {
          "base_uri": "https://localhost:8080/"
        },
        "id": "89Ax1-C2XCt6",
        "outputId": "28893e53-0da8-45c0-87ad-7dad064b506a"
      },
      "execution_count": 11,
      "outputs": [
        {
          "output_type": "stream",
          "name": "stdout",
          "text": [
            "[1] Sacar\n",
            "[2] Extrato\n",
            "[0] Sair\n",
            "2\n",
            "Exibindo o extrato...\n",
            "[1] Sacar\n",
            "[2] Extrato\n",
            "[0] Sair\n",
            "1\n",
            "Sacando...\n",
            "[1] Sacar\n",
            "[2] Extrato\n",
            "[0] Sair\n",
            "0\n",
            "Obrigado por utilizar o nosso sistema bancário\n"
          ]
        }
      ]
    },
    {
      "cell_type": "code",
      "source": [
        "opcao = -1\n",
        "\n",
        "while True:\n",
        "  opcao = int(input(\"Informe um número: \"))\n",
        "\n",
        "  if opcao == 10:\n",
        "    break\n",
        "\n",
        "  print(opcao)"
      ],
      "metadata": {
        "colab": {
          "base_uri": "https://localhost:8080/"
        },
        "id": "9drcHxqjY7Xo",
        "outputId": "340a2aa2-724a-4be3-e7a0-9332d288ff91"
      },
      "execution_count": 13,
      "outputs": [
        {
          "name": "stdout",
          "output_type": "stream",
          "text": [
            "Informe um número: 1\n",
            "1\n",
            "Informe um número: 3\n",
            "3\n",
            "Informe um número: 99\n",
            "99\n",
            "Informe um número: 10\n"
          ]
        }
      ]
    },
    {
      "cell_type": "code",
      "source": [
        "for numero in range(100):\n",
        "  if numero % 2 == 0:\n",
        "    continue\n",
        "  print(numero, end=\" \")"
      ],
      "metadata": {
        "colab": {
          "base_uri": "https://localhost:8080/"
        },
        "id": "dq-rQIgWaqab",
        "outputId": "b959ddfe-08ac-4838-af84-6b691010530a"
      },
      "execution_count": 14,
      "outputs": [
        {
          "output_type": "stream",
          "name": "stdout",
          "text": [
            "1 3 5 7 9 11 13 15 17 19 21 23 25 27 29 31 33 35 37 39 41 43 45 47 49 51 53 55 57 59 61 63 65 67 69 71 73 75 77 79 81 83 85 87 89 91 93 95 97 99 "
          ]
        }
      ]
    }
  ]
}