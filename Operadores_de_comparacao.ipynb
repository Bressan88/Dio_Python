{
  "nbformat": 4,
  "nbformat_minor": 0,
  "metadata": {
    "colab": {
      "provenance": [],
      "authorship_tag": "ABX9TyPGmJb9Cm64l+yQ3ONZLzI6",
      "include_colab_link": true
    },
    "kernelspec": {
      "name": "python3",
      "display_name": "Python 3"
    },
    "language_info": {
      "name": "python"
    }
  },
  "cells": [
    {
      "cell_type": "markdown",
      "metadata": {
        "id": "view-in-github",
        "colab_type": "text"
      },
      "source": [
        "<a href=\"https://colab.research.google.com/github/Bressan88/Dio_Python/blob/main/Operadores_de_comparacao.ipynb\" target=\"_parent\"><img src=\"https://colab.research.google.com/assets/colab-badge.svg\" alt=\"Open In Colab\"/></a>"
      ]
    },
    {
      "cell_type": "markdown",
      "source": [
        "# OPERADORES DE COMPARAÇÃO\n",
        "São operadores para comparar dois valores."
      ],
      "metadata": {
        "id": "tHTSpclHWYxW"
      }
    },
    {
      "cell_type": "code",
      "execution_count": 2,
      "metadata": {
        "colab": {
          "base_uri": "https://localhost:8080/"
        },
        "id": "OdOJi9K3WT2g",
        "outputId": "aa416320-f488-4aa0-bb0f-aab2b571fd53"
      },
      "outputs": [
        {
          "output_type": "stream",
          "name": "stdout",
          "text": [
            "False\n",
            "True\n",
            "True\n",
            "True\n",
            "False\n",
            "False\n"
          ]
        }
      ],
      "source": [
        "saldo = 450\n",
        "saque = 200\n",
        "\n",
        "\n",
        "# Igualdade\n",
        "print(saldo == saque)\n",
        "\n",
        "# Diferença\n",
        "print(saldo != saque)\n",
        "\n",
        "# Maior que, maior ou igual\n",
        "print(saldo > saque)\n",
        "print(saldo >= saque)\n",
        "\n",
        "# Menor que, menor ou igual\n",
        "print(saldo < saque)\n",
        "print(saldo <= saque)"
      ]
    }
  ]
}