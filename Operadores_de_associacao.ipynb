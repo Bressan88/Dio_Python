{
  "nbformat": 4,
  "nbformat_minor": 0,
  "metadata": {
    "colab": {
      "provenance": [],
      "authorship_tag": "ABX9TyPdpsrFLtKqq1dr0d3NRxfg",
      "include_colab_link": true
    },
    "kernelspec": {
      "name": "python3",
      "display_name": "Python 3"
    },
    "language_info": {
      "name": "python"
    }
  },
  "cells": [
    {
      "cell_type": "markdown",
      "metadata": {
        "id": "view-in-github",
        "colab_type": "text"
      },
      "source": [
        "<a href=\"https://colab.research.google.com/github/Bressan88/Dio_Python/blob/main/Operadores_de_associacao.ipynb\" target=\"_parent\"><img src=\"https://colab.research.google.com/assets/colab-badge.svg\" alt=\"Open In Colab\"/></a>"
      ]
    },
    {
      "cell_type": "markdown",
      "source": [
        "# OPERADORES DE ASSOCIAÇÃO\n",
        "São operadores utilizados para verificar se um objeto está presente em uma sequência."
      ],
      "metadata": {
        "id": "jSKWIgfm-qCi"
      }
    },
    {
      "cell_type": "code",
      "execution_count": 1,
      "metadata": {
        "colab": {
          "base_uri": "https://localhost:8080/"
        },
        "id": "IVERHOvK-jFz",
        "outputId": "42ae7a64-ca9a-482f-f0b0-ee3f8484ceee"
      },
      "outputs": [
        {
          "output_type": "stream",
          "name": "stdout",
          "text": [
            "True\n",
            "True\n",
            "False\n"
          ]
        }
      ],
      "source": [
        "curso = \"Curso de Python\"\n",
        "frutas = [\"laranja\",\"uva\",\"limão\"]\n",
        "saques = [1500, 100]\n",
        "\n",
        "print(\"Python\" in curso)\n",
        "print(\"maçã\" not in frutas)\n",
        "print(200 in saques)"
      ]
    }
  ]
}