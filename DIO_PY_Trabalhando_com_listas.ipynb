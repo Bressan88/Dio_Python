{
  "nbformat": 4,
  "nbformat_minor": 0,
  "metadata": {
    "colab": {
      "provenance": [],
      "authorship_tag": "ABX9TyPrkdKCllfjlymt+SB39FUb",
      "include_colab_link": true
    },
    "kernelspec": {
      "name": "python3",
      "display_name": "Python 3"
    },
    "language_info": {
      "name": "python"
    }
  },
  "cells": [
    {
      "cell_type": "markdown",
      "metadata": {
        "id": "view-in-github",
        "colab_type": "text"
      },
      "source": [
        "<a href=\"https://colab.research.google.com/github/Bressan88/Dio_Python/blob/main/DIO_PY_Trabalhando_com_listas.ipynb\" target=\"_parent\"><img src=\"https://colab.research.google.com/assets/colab-badge.svg\" alt=\"Open In Colab\"/></a>"
      ]
    },
    {
      "cell_type": "markdown",
      "source": [
        "## **LISTAS**\n",
        "Podem armazenar de maneira sequencial qualquer tipo de objeto. Pode-se criar listas utilizando o construtor ***list***, a função range ou colocando valores separados por vírgula dentro de colchetes. Listas são objetos mutáveis, portanto, podemos alterar seus valores após a criação."
      ],
      "metadata": {
        "id": "hwfIY3URySZ_"
      }
    },
    {
      "cell_type": "code",
      "execution_count": 1,
      "metadata": {
        "colab": {
          "base_uri": "https://localhost:8080/"
        },
        "id": "r-7e7iKHwnm7",
        "outputId": "505c08e7-41f3-4be1-8a73-916702083052"
      },
      "outputs": [
        {
          "output_type": "stream",
          "name": "stdout",
          "text": [
            "[]\n",
            "['p', 'y', 't', 'h', 'o', 'n']\n",
            "[0, 1, 2, 3, 4, 5, 6, 7, 8, 9]\n",
            "['Ferrari', 'F8', 'vermelho', 2020, 'São Paulo']\n"
          ]
        }
      ],
      "source": [
        "frutas = [\"laranja\", \"maca\", \"uva\"]\n",
        "frutas = []\n",
        "letras = list(\"python\")\n",
        "numeros = list(range(10))\n",
        "carro = [\"Ferrari\",\"F8\",\"vermelho\",2020,\"São Paulo\"]\n",
        "\n",
        "print(frutas)\n",
        "print(letras)\n",
        "print(numeros)\n",
        "print(carro)"
      ]
    },
    {
      "cell_type": "markdown",
      "source": [
        "## **- ACESSO DIRETO**\n",
        "A lista é uma sequência, portanto podemos acessar seus dados utilizando índices. Contamos o índice de determinada sequência a partir do zero."
      ],
      "metadata": {
        "id": "lYbYNCXM0poY"
      }
    },
    {
      "cell_type": "code",
      "source": [
        "frutas = [\"maçã\",\"laranja\",\"uva\",\"pera\"]\n",
        "print(frutas[0])\n",
        "print(frutas[1])\n",
        "print(frutas[2])\n",
        "print(frutas[3])\n",
        "print(\"\")\n",
        "print(frutas[-1])\n",
        "print(frutas[-3])\n",
        "print(frutas[-4])"
      ],
      "metadata": {
        "colab": {
          "base_uri": "https://localhost:8080/"
        },
        "id": "uj8rIO2M1B1n",
        "outputId": "393aa77f-2169-4a48-cc65-6500bfb60ada"
      },
      "execution_count": 5,
      "outputs": [
        {
          "output_type": "stream",
          "name": "stdout",
          "text": [
            "maçã\n",
            "laranja\n",
            "uva\n",
            "pera\n",
            "\n",
            "pera\n",
            "laranja\n",
            "maçã\n"
          ]
        }
      ]
    },
    {
      "cell_type": "markdown",
      "source": [
        "## **Listas aninhadas**\n",
        "Listas podem armazenar todos os tipos de objetos Python, portanto podemos ter listas que armazenam outras listas. Com isso podemos ciar estruturas bidimensionais (tabelas), e acessar informando os índices de linha e coluna.\n"
      ],
      "metadata": {
        "id": "yPvWDtAA2dDv"
      }
    },
    {
      "cell_type": "code",
      "source": [
        "matriz = [\n",
        "    [1,2,3],\n",
        "    [\"a\",\"b\",\"c\"],\n",
        "    [4,5,6]\n",
        "]\n",
        "\n",
        "print(matriz)\n",
        "print(matriz[0])\n",
        "print(matriz[0][0])\n",
        "print(matriz[-1])\n",
        "print(matriz[-1][-1])\n",
        "print(matriz[2][0])\n",
        "print(matriz[-1][0])"
      ],
      "metadata": {
        "colab": {
          "base_uri": "https://localhost:8080/"
        },
        "id": "R6mUH9na2d1q",
        "outputId": "248c5789-28fe-4b1b-98e6-132b5f315b73"
      },
      "execution_count": 12,
      "outputs": [
        {
          "output_type": "stream",
          "name": "stdout",
          "text": [
            "[[1, 2, 3], ['a', 'b', 'c'], [4, 5, 6]]\n",
            "[1, 2, 3]\n",
            "1\n",
            "[4, 5, 6]\n",
            "6\n",
            "4\n",
            "4\n"
          ]
        }
      ]
    },
    {
      "cell_type": "markdown",
      "source": [
        "## **FATIAMENTO**\n",
        "Além de acessar elementos diretamente, podemos extrair uum conjunto de valores de uma sequência. Para isto, basta passar o índice inicial e/ou final para acessar o conjunto. Pode-se, ainda, informar quantas posições o cursor deve \"pular\" no acesso."
      ],
      "metadata": {
        "id": "vaNdorGg5aWO"
      }
    },
    {
      "cell_type": "code",
      "source": [
        "lista = ['p','y','t','h','o','n']\n",
        "\n",
        "print(lista[2:])\n",
        "print(lista[:2])\n",
        "print(lista[1:3])\n",
        "print(lista[0:3:2])\n",
        "print([::])\n",
        "print([::-1])"
      ],
      "metadata": {
        "colab": {
          "base_uri": "https://localhost:8080/"
        },
        "id": "NkJjEGVL5vd5",
        "outputId": "b48c82b4-ade2-4115-96de-866fe3e9bf3c"
      },
      "execution_count": 13,
      "outputs": [
        {
          "output_type": "stream",
          "name": "stdout",
          "text": [
            "['t', 'h', 'o', 'n']\n",
            "['p', 'y']\n"
          ]
        }
      ]
    },
    {
      "cell_type": "markdown",
      "source": [
        "## **ITERAR LISTAS**"
      ],
      "metadata": {
        "id": "whLTZNJd9nPA"
      }
    },
    {
      "cell_type": "code",
      "source": [
        "carros = ['gol','celta','palio']\n",
        "\n",
        "for carro in carros:\n",
        "  print(carro)"
      ],
      "metadata": {
        "colab": {
          "base_uri": "https://localhost:8080/"
        },
        "id": "i7VYY49y9rnm",
        "outputId": "36d4bfa1-9d28-49f3-83a6-200e23f55521"
      },
      "execution_count": 14,
      "outputs": [
        {
          "output_type": "stream",
          "name": "stdout",
          "text": [
            "gol\n",
            "celta\n",
            "palio\n"
          ]
        }
      ]
    },
    {
      "cell_type": "markdown",
      "source": [
        "## **FUNÇÃO ENUMERATE**\n",
        "As vezes é necessário saber qual o índice do objeto dentro do laço for. Para isso pode-se utilizar a função ***enumerate***."
      ],
      "metadata": {
        "id": "hgCgwRua-IIj"
      }
    },
    {
      "cell_type": "code",
      "source": [
        "carros = ['gol','celta','palio']\n",
        "\n",
        "for indice, carro in enumerate(carros):\n",
        "  print(f'{indice}: {carro}')"
      ],
      "metadata": {
        "colab": {
          "base_uri": "https://localhost:8080/"
        },
        "id": "jlTb6DmoANwA",
        "outputId": "3bc92289-5ce6-4027-f965-d82b7a8ec121"
      },
      "execution_count": 15,
      "outputs": [
        {
          "output_type": "stream",
          "name": "stdout",
          "text": [
            "0: gol\n",
            "1: celta\n",
            "2: palio\n"
          ]
        }
      ]
    },
    {
      "cell_type": "markdown",
      "source": [
        "## **COMPREENSÃO DE LISTAS**\n",
        "Oferece uma sintaxe mais curta quando você deseja: criar uma nova listaa com base nos valores de uma lista existente (filtro) ou gerar uma nova lista aplicando alguma modificação nos elementos de uma lista existente."
      ],
      "metadata": {
        "id": "aX715ahfAp82"
      }
    },
    {
      "cell_type": "code",
      "source": [
        "# ======================================\n",
        "# Filtro Versão 1\n",
        "# ======================================\n",
        "numeros = [1, 30, 21, 2, 9, 65, 34]\n",
        "pares = []\n",
        "\n",
        "for numero in numeros:\n",
        "  if numero % 2 == 0:\n",
        "    pares.append(numero)\n",
        "\n",
        "print(pares)\n",
        "\n",
        "# ======================================\n",
        "# Filtro Versão 2\n",
        "# ======================================\n",
        "numeros = [1, 30, 21, 2, 9, 65, 34]\n",
        "pares = [numero for numero in numeros if numero % 2 == 0]\n",
        "\n",
        "print(pares)\n",
        "\n",
        "# ======================================\n",
        "# Modificando valores V1\n",
        "# ======================================\n",
        "numeros = [1, 30, 21, 2, 9, 65, 34]\n",
        "quadrado = []\n",
        "\n",
        "for numero in numeros:\n",
        "  quadrado.append(numero ** 2)\n",
        "\n",
        "print(quadrado)\n",
        "\n",
        "# ======================================\n",
        "# Modificando valores V2\n",
        "# ======================================\n",
        "numeros = [1, 30, 21, 2, 9, 65, 34]\n",
        "quadrado = [numero ** 2 for numero in numeros]\n",
        "\n",
        "print(quadrado)"
      ],
      "metadata": {
        "colab": {
          "base_uri": "https://localhost:8080/"
        },
        "id": "InS8O-5jBtZ9",
        "outputId": "58cd6503-47dc-4183-f172-3f182ca52809"
      },
      "execution_count": 19,
      "outputs": [
        {
          "output_type": "stream",
          "name": "stdout",
          "text": [
            "[30, 2, 34]\n",
            "[30, 2, 34]\n",
            "[1, 900, 441, 4, 81, 4225, 1156]\n",
            "[1, 900, 441, 4, 81, 4225, 1156]\n"
          ]
        }
      ]
    },
    {
      "cell_type": "markdown",
      "source": [
        "## **MÉTODOS DA CLASSE LIST**"
      ],
      "metadata": {
        "id": "v3zMJ2KkCUU5"
      }
    },
    {
      "cell_type": "code",
      "source": [
        "# [].append()\n",
        "# Para adicionar um novo elemento na lista\n",
        "lista = []\n",
        "\n",
        "lista.append(1)\n",
        "lista.append(\"Python\")\n",
        "lista.append([40, 30, 20])\n",
        "\n",
        "print(lista)"
      ],
      "metadata": {
        "colab": {
          "base_uri": "https://localhost:8080/"
        },
        "id": "mhVaHxdACdIK",
        "outputId": "71d55ef5-c19c-4ab9-aeb1-b396ee7ebe84"
      },
      "execution_count": 2,
      "outputs": [
        {
          "output_type": "stream",
          "name": "stdout",
          "text": [
            "[1, 'Python', [40, 30, 20]]\n"
          ]
        }
      ]
    },
    {
      "cell_type": "code",
      "source": [
        "# [].clear()\n",
        "# Limpa todos os valores da lista\n",
        "lista = [1, 'Python', [40, 30, 20]]\n",
        "print(lista)\n",
        "lista.clear()\n",
        "print(lista)"
      ],
      "metadata": {
        "colab": {
          "base_uri": "https://localhost:8080/"
        },
        "id": "A6KC8PafDZ_N",
        "outputId": "95eff608-362c-463d-c65a-2ca7904e5d58"
      },
      "execution_count": 3,
      "outputs": [
        {
          "output_type": "stream",
          "name": "stdout",
          "text": [
            "[1, 'Python', [40, 30, 20]]\n",
            "[]\n"
          ]
        }
      ]
    },
    {
      "cell_type": "code",
      "source": [
        "# [].copy()\n",
        "# A lista é um objeto mutável.\n",
        "# Retorna uma lista igual, mas com ums instância diferente.\n",
        "lista = [1, 'Python', [40, 30, 20]]\n",
        "lista2 = lista.copy()\n",
        "\n",
        "print(id(lista))\n",
        "print(id(lista2))\n",
        "\n",
        "# O que se faz na lista2 não reflete na lista.\n",
        "lista2[0] = \"EDU\"\n",
        "print(lista)\n",
        "print(lista2)"
      ],
      "metadata": {
        "colab": {
          "base_uri": "https://localhost:8080/"
        },
        "id": "eonhYi98D88J",
        "outputId": "aa6190bd-c975-4e0d-90db-17c973c1016b"
      },
      "execution_count": 5,
      "outputs": [
        {
          "output_type": "stream",
          "name": "stdout",
          "text": [
            "139748776311232\n",
            "139747880592768\n",
            "[1, 'Python', [40, 30, 20]]\n",
            "['EDU', 'Python', [40, 30, 20]]\n"
          ]
        }
      ]
    },
    {
      "cell_type": "code",
      "source": [
        "# [].count()\n",
        "# Conta quantas vezes um determinado objeto aparece dentro de uma lista\n",
        "cores = ['verde','vermelho','azul','verde','amarelo','vermelho','verde']\n",
        "\n",
        "print(cores.count('vermelho'))\n",
        "print(cores.count('verde'))\n",
        "print(cores.count('azul'))\n",
        "print(cores.count('amarelo'))"
      ],
      "metadata": {
        "colab": {
          "base_uri": "https://localhost:8080/"
        },
        "id": "2glFgl9RGaVW",
        "outputId": "d7deb0ef-e732-4d1f-8447-78c916cef033"
      },
      "execution_count": 7,
      "outputs": [
        {
          "output_type": "stream",
          "name": "stdout",
          "text": [
            "2\n",
            "3\n",
            "1\n",
            "1\n"
          ]
        }
      ]
    },
    {
      "cell_type": "code",
      "source": [
        "# [].extend()\n",
        "# Junta várias listas em uma só.\n",
        "# Não elimina os valores duplicados\n",
        "linguas1 = ['portugues','italiano','alemão']\n",
        "linguas2 = ['japones','espanhol','italiano']\n",
        "\n",
        "print(linguas1)\n",
        "print(linguas2)\n",
        "\n",
        "linguas1.extend(linguas2)\n",
        "print(linguas1)"
      ],
      "metadata": {
        "colab": {
          "base_uri": "https://localhost:8080/"
        },
        "id": "s3xQAnkcIYBj",
        "outputId": "2e62771f-2027-47ee-eb40-604a4b8e703d"
      },
      "execution_count": 8,
      "outputs": [
        {
          "output_type": "stream",
          "name": "stdout",
          "text": [
            "['portugues', 'italiano', 'alemão']\n",
            "['japones', 'espanhol', 'italiano']\n",
            "['portugues', 'italiano', 'alemão', 'japones', 'espanhol', 'italiano']\n"
          ]
        }
      ]
    },
    {
      "cell_type": "code",
      "source": [
        "# [].index()\n",
        "# Mostra onde é a primeira ocorrência de determinado valor na lista\n",
        "linguagens = ['Python','Java','C','C#','Pascal','Java']\n",
        "\n",
        "print(linguagens.index('Python'))\n",
        "print(linguagens.index('Java'))\n",
        "print(linguagens.index('C#'))"
      ],
      "metadata": {
        "colab": {
          "base_uri": "https://localhost:8080/"
        },
        "id": "VXxhZcj7Je-O",
        "outputId": "8f29ae5f-8667-4238-a668-458503e2c389"
      },
      "execution_count": 9,
      "outputs": [
        {
          "output_type": "stream",
          "name": "stdout",
          "text": [
            "0\n",
            "1\n",
            "3\n"
          ]
        }
      ]
    },
    {
      "cell_type": "code",
      "source": [
        "# [].pop()\n",
        "# .pop() ---> Retira o último item da lista\n",
        "# .pop(n) --> Retira o elemento de índice n\n",
        "linguagens = ['Python','Java','C','C#','Pascal','Java']\n",
        "print(linguagens)\n",
        "linguagens.pop()\n",
        "print(linguagens)\n",
        "linguagens.pop()\n",
        "print(linguagens)\n",
        "linguagens.pop(0)\n",
        "print(linguagens)"
      ],
      "metadata": {
        "colab": {
          "base_uri": "https://localhost:8080/"
        },
        "id": "VE8391ypKr5w",
        "outputId": "8802fc47-a84f-47d3-fc22-70a7cf84b92e"
      },
      "execution_count": 11,
      "outputs": [
        {
          "output_type": "stream",
          "name": "stdout",
          "text": [
            "['Python', 'Java', 'C', 'C#', 'Pascal', 'Java']\n",
            "['Python', 'Java', 'C', 'C#', 'Pascal']\n",
            "['Python', 'Java', 'C', 'C#']\n",
            "['Java', 'C', 'C#']\n"
          ]
        }
      ]
    },
    {
      "cell_type": "code",
      "source": [
        "# [].remove()\n",
        "# Passa o valor do objeto para a sua remoção.\n",
        "linguagens = ['Python','Java','C','C#','Pascal','Java']\n",
        "print(linguagens)\n",
        "linguagens.remove('C')\n",
        "print(linguagens)\n",
        "linguagens.remove('Java')\n",
        "print(linguagens)"
      ],
      "metadata": {
        "colab": {
          "base_uri": "https://localhost:8080/"
        },
        "id": "2aO0X_0bLx17",
        "outputId": "3d325f0e-9fdb-4c77-fe6a-3f14556cb796"
      },
      "execution_count": 12,
      "outputs": [
        {
          "output_type": "stream",
          "name": "stdout",
          "text": [
            "['Python', 'Java', 'C', 'C#', 'Pascal', 'Java']\n",
            "['Python', 'Java', 'C#', 'Pascal', 'Java']\n",
            "['Python', 'C#', 'Pascal', 'Java']\n"
          ]
        }
      ]
    },
    {
      "cell_type": "code",
      "source": [
        "# [].reverse()\n",
        "# Inverte a lista, coloca ao contrário.\n",
        "linguagens = ['Python','Java','C','C#','Pascal','Java']\n",
        "print(linguagens)\n",
        "linguagens.reverse()\n",
        "print(linguagens)"
      ],
      "metadata": {
        "colab": {
          "base_uri": "https://localhost:8080/"
        },
        "id": "jbwrAU4_Mbsy",
        "outputId": "3524309f-1b13-4604-ae33-0158aa082afd"
      },
      "execution_count": 13,
      "outputs": [
        {
          "output_type": "stream",
          "name": "stdout",
          "text": [
            "['Python', 'Java', 'C', 'C#', 'Pascal', 'Java']\n",
            "['Java', 'Pascal', 'C#', 'C', 'Java', 'Python']\n"
          ]
        }
      ]
    },
    {
      "cell_type": "code",
      "source": [
        "# [].sort()\n",
        "# Ordena a lista\n",
        "linguagens = ['Python','Java','C','C#','Pascal','Java']\n",
        "print(linguagens)\n",
        "\n",
        "linguagens.sort()\n",
        "print(linguagens)\n",
        "\n",
        "linguagens.sort(reverse=True)\n",
        "print(linguagens)\n",
        "\n",
        "linguagens = ['Python','Javascript','Assembly','C','C#','Pascal','Java']\n",
        "linguagens.sort(key=lambda x: len(x))\n",
        "print(linguagens)\n",
        "\n",
        "linguagens = ['Python','Javascript','Assembly','C','C#','Pascal','Java']\n",
        "linguagens.sort(key=lambda x: len(x), reverse=True)\n",
        "print(linguagens)"
      ],
      "metadata": {
        "colab": {
          "base_uri": "https://localhost:8080/"
        },
        "id": "dLk5ETjHMvss",
        "outputId": "ef9d1121-64dd-4f36-e8b0-3376b36835c0"
      },
      "execution_count": 20,
      "outputs": [
        {
          "output_type": "stream",
          "name": "stdout",
          "text": [
            "['Python', 'Java', 'C', 'C#', 'Pascal', 'Java']\n",
            "['C', 'C#', 'Java', 'Java', 'Pascal', 'Python']\n",
            "['Python', 'Pascal', 'Java', 'Java', 'C#', 'C']\n",
            "['C', 'C#', 'Java', 'Python', 'Pascal', 'Assembly', 'Javascript']\n",
            "['Javascript', 'Assembly', 'Python', 'Pascal', 'Java', 'C#', 'C']\n"
          ]
        }
      ]
    },
    {
      "cell_type": "code",
      "source": [
        "# [].len()\n",
        "# Retorna a quantidade de itens da lista.\n",
        "\n",
        "lista = ['a','b','c']\n",
        "print(len(lista))"
      ],
      "metadata": {
        "colab": {
          "base_uri": "https://localhost:8080/"
        },
        "id": "e-M3Y8E7SD9X",
        "outputId": "39338945-96f3-4c43-e8a1-4a644b75002b"
      },
      "execution_count": 21,
      "outputs": [
        {
          "output_type": "stream",
          "name": "stdout",
          "text": [
            "3\n"
          ]
        }
      ]
    },
    {
      "cell_type": "code",
      "source": [
        "# [].sorted()\n",
        "# Função built-in --> Que já está inclusa na linguagem.\n",
        "# Ordena iteráveis\n",
        "linguagens = ['Python','Javascript','Assembly','C','C#','Pascal','Java']\n",
        "linguagens = sorted(linguagens, key=lambda x: len(x))\n",
        "print(linguagens)\n",
        "linguagens = sorted(linguagens, key=lambda x: len(x), reverse=True)\n",
        "print(linguagens)"
      ],
      "metadata": {
        "colab": {
          "base_uri": "https://localhost:8080/"
        },
        "id": "grAAKQjDScOj",
        "outputId": "f578985b-1bc5-4b16-cf01-cfc5565f3010"
      },
      "execution_count": 24,
      "outputs": [
        {
          "output_type": "stream",
          "name": "stdout",
          "text": [
            "['C', 'C#', 'Java', 'Python', 'Pascal', 'Assembly', 'Javascript']\n",
            "['Javascript', 'Assembly', 'Python', 'Pascal', 'Java', 'C#', 'C']\n"
          ]
        }
      ]
    }
  ]
}