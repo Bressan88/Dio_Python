{
  "nbformat": 4,
  "nbformat_minor": 0,
  "metadata": {
    "colab": {
      "provenance": [],
      "authorship_tag": "ABX9TyM/CCvr5N6IwhIU9RLhbey2"
    },
    "kernelspec": {
      "name": "python3",
      "display_name": "Python 3"
    },
    "language_info": {
      "name": "python"
    }
  },
  "cells": [
    {
      "cell_type": "markdown",
      "source": [
        "# OPERADORES DE ATRIBUIÇÃO\n",
        "São operadores utilizados para definir o valor inicial ou sobrescrever o valor de uma variável.\n",
        "\n",
        "O sinal de atribuição é o sinal de \"**=**\"\n",
        "Lado esquerdo = Variável\n",
        "Lado direito = Valor\n",
        "No exemplo, atribuiu o valor 500 à variável \"**saldo**\"\n",
        "```\n",
        "saldo = 500\n",
        "```\n",
        "\n"
      ],
      "metadata": {
        "id": "OwFb7T9EZ1XK"
      }
    },
    {
      "cell_type": "code",
      "execution_count": null,
      "metadata": {
        "id": "XBhCJvAVZlxR"
      },
      "outputs": [],
      "source": [
        "# Atribuição simples\n",
        "saldo = 500\n",
        "\n",
        "# Atribuição com adição\n",
        "# No momento que está atribuindo, já modifica\n",
        "# Equivale à: saldo = saldo + 200\n",
        "saldo += 200"
      ]
    },
    {
      "cell_type": "markdown",
      "source": [
        "# Atribuição com adição\n",
        "```\n",
        "saldo += 200\n",
        "saldo = saldo + 200\n",
        "```\n",
        "# Atribuição com subtração\n",
        "```\n",
        "saldo -= 200\n",
        "saldo = saldo - 200\n",
        "```\n",
        "# Atribuição com multiplicação\n",
        "```\n",
        "saldo *= 200\n",
        "saldo = saldo * 200\n",
        "```\n",
        "# Atribuição com divisão\n",
        "```\n",
        "saldo /= 5\n",
        "saldo = saldo / 5\n",
        "```\n",
        "# Atribuição com módulo\n",
        "```\n",
        "saldo %= 500\n",
        "saldo = saldo % 500\n",
        "```\n",
        "# Atribuição com exponenciação\n",
        "```\n",
        "saldo **= 10\n",
        "saldo = saldo ** 10\n",
        "```"
      ],
      "metadata": {
        "id": "dw3wPLkWk7t2"
      }
    },
    {
      "cell_type": "code",
      "source": [
        "saldo = 500\n",
        "print(f'saldo = {saldo}')\n",
        "\n",
        "saldo = 200\n",
        "print(f'saldo = {saldo}')"
      ],
      "metadata": {
        "colab": {
          "base_uri": "https://localhost:8080/"
        },
        "id": "CXWnrgm5mpPL",
        "outputId": "6ec53cb4-bcf5-4b0d-9a63-9e9b18066fa8"
      },
      "execution_count": 2,
      "outputs": [
        {
          "output_type": "stream",
          "name": "stdout",
          "text": [
            "saldo = 500\n",
            "saldo = 200\n"
          ]
        }
      ]
    }
  ]
}