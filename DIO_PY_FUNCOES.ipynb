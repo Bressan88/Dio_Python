{
  "nbformat": 4,
  "nbformat_minor": 0,
  "metadata": {
    "colab": {
      "provenance": [],
      "authorship_tag": "ABX9TyPKaWuhGrrnipG9eC1ceVui",
      "include_colab_link": true
    },
    "kernelspec": {
      "name": "python3",
      "display_name": "Python 3"
    },
    "language_info": {
      "name": "python"
    }
  },
  "cells": [
    {
      "cell_type": "markdown",
      "metadata": {
        "id": "view-in-github",
        "colab_type": "text"
      },
      "source": [
        "<a href=\"https://colab.research.google.com/github/Bressan88/Dio_Python/blob/main/DIO_PY_FUNCOES.ipynb\" target=\"_parent\"><img src=\"https://colab.research.google.com/assets/colab-badge.svg\" alt=\"Open In Colab\"/></a>"
      ]
    },
    {
      "cell_type": "markdown",
      "source": [
        "# FUNÇÕES\n",
        "Função é um bloco de código identificado por um nome e pode receber uma lista de parâmetros. Esses parâmetros podem ou não ter valores padrões. usar funções torna o código mais legível e possibilita o reaproveitamento de código. Programar baseado em funções é o mesmo que dizer que estamos programando de maneira estruturada."
      ],
      "metadata": {
        "id": "xtFJIT9f7pB5"
      }
    },
    {
      "cell_type": "code",
      "execution_count": 1,
      "metadata": {
        "colab": {
          "base_uri": "https://localhost:8080/"
        },
        "id": "tDCMVyMH6x53",
        "outputId": "295e133d-03a0-488e-be86-57e13bee2e81"
      },
      "outputs": [
        {
          "output_type": "stream",
          "name": "stdout",
          "text": [
            "Olá mundo!\n",
            "Seja bem-vindo Paulo\n",
            "Seja bem-vindo Eduardo\n",
            "Seja bem-vindo Pedro\n"
          ]
        }
      ],
      "source": [
        "def exibir_mensagem():\n",
        "  print('Olá mundo!')\n",
        "\n",
        "def exibir_mensagem_2(nome):\n",
        "  print(f'Seja bem-vindo {nome}')\n",
        "\n",
        "def exibir_mensagem_3(nome='Eduardo'):\n",
        "  print(f'Seja bem-vindo {nome}')\n",
        "\n",
        "exibir_mensagem()\n",
        "exibir_mensagem_2(nome='Paulo')\n",
        "exibir_mensagem_3()\n",
        "exibir_mensagem_3(nome='Pedro')"
      ]
    },
    {
      "cell_type": "code",
      "source": [
        "def calcular_total(numeros):\n",
        "  return sum(numeros)\n",
        "\n",
        "def retorna_antecessor_e_sucessor(numero):\n",
        "  antecessor = numero - 1\n",
        "  sucessor = numero + 1\n",
        "  return antecessor, sucessor\n",
        "\n",
        "print(calcular_total([10,20,30]))\n",
        "print(retorna_antecessor_e_sucessor(10))\n"
      ],
      "metadata": {
        "colab": {
          "base_uri": "https://localhost:8080/"
        },
        "id": "WNJOQge2Nm4A",
        "outputId": "9307faa9-101b-463e-86b4-0c90acde64dd"
      },
      "execution_count": 2,
      "outputs": [
        {
          "output_type": "stream",
          "name": "stdout",
          "text": [
            "60\n",
            "(9, 11)\n"
          ]
        }
      ]
    },
    {
      "cell_type": "markdown",
      "source": [
        "## **FUNÇÕES - ARGUMENTOS NOMEADOS**\n",
        "Funções também podem ser chamadas usando argumentos nomeados da forma chave=valor."
      ],
      "metadata": {
        "id": "C1IZVCiWOuon"
      }
    },
    {
      "cell_type": "code",
      "source": [
        "def salvar_carro(modelo, marca, ano, placa):\n",
        "  print(f'Carro inserido com sucesso! {modelo}/{marca}/{ano}/{placa}')\n",
        "\n",
        "salvar_carro('wolks','gol','2010','ABC-1234')\n",
        "salvar_carro(**{'marca':'wolks','modelo':'gol','ano':2010,'placa':'ABC-1234'})\n"
      ],
      "metadata": {
        "colab": {
          "base_uri": "https://localhost:8080/"
        },
        "id": "IrZXcAvXQof5",
        "outputId": "d175b62e-7183-4ad1-80d0-30d1d90c67cb"
      },
      "execution_count": 7,
      "outputs": [
        {
          "output_type": "stream",
          "name": "stdout",
          "text": [
            "Carro inserido com sucesso! wolks/gol/2010/ABC-1234\n",
            "Carro inserido com sucesso! gol/wolks/2010/ABC-1234\n"
          ]
        }
      ]
    },
    {
      "cell_type": "markdown",
      "source": [
        "## **Args e kwargs**\n",
        "Podemos combinar parâmetros obrigatórios com args e kwargs. Quando esses são definidos (*args e **kwargs), o método recebe os valores como tupla e dicionário respectivamente."
      ],
      "metadata": {
        "id": "JR0JyIQnX4ML"
      }
    },
    {
      "cell_type": "code",
      "source": [
        "# ==================================\n",
        "# EXEMPLO\n",
        "# ==================================\n",
        "\n",
        "def exibir_poema(data_extenso, *args, **kwargs):\n",
        "\n",
        "  texto = \"\\n\".join(args)\n",
        "  meta_dados = \"\\n\".join([f\"{chave.title()}: {valor}\" for chave, valor in kwargs.items()])\n",
        "  mensagem = f\"{data_extenso}\\n\\n{texto}\\n\\n{meta_dados}\"\n",
        "\n",
        "  print(mensagem)\n",
        "\n",
        "exibir_poema(\"Terça, 22 de Abril de 2025\", \"Está uma bela noite\", \"Logo irei dormir e roncar\", autor=\"Bressan\", ano=1988)"
      ],
      "metadata": {
        "colab": {
          "base_uri": "https://localhost:8080/"
        },
        "id": "lJlyw3gnX8UF",
        "outputId": "759ffc29-0a27-40c6-847d-4e25b3e903bf"
      },
      "execution_count": 8,
      "outputs": [
        {
          "output_type": "stream",
          "name": "stdout",
          "text": [
            "Terça, 22 de Abril de 2025\n",
            "\n",
            "Está uma bela noite\n",
            "Logo irei dormir e roncar\n",
            "\n",
            "Autor: Bressan\n",
            "Ano: 1988\n"
          ]
        }
      ]
    },
    {
      "cell_type": "code",
      "source": [
        "def aluno(nome):\n",
        "  print(f\"Aluno mencionado: {nome}\")\n",
        "  return None\n",
        "\n",
        "def somar_notas(*args):\n",
        "  print(f\"Argumentos: {args}\")\n",
        "  soma = sum(args)\n",
        "  qtd_arg = len(args)\n",
        "  media = sum(args) / len(args)\n",
        "  print(type(args))\n",
        "  print(f\"Quantidade de notas: {qtd_arg}\")\n",
        "  print(f\"Soma das notas: {soma}\")\n",
        "  print(f\"Media das notas: {media}\")\n",
        "  return None\n",
        "\n",
        "def aluno_idade(**kwargs):\n",
        "  print(\"\\n\")\n",
        "  print(type(kwargs))\n",
        "  print(kwargs)\n",
        "  print(kwargs.items())\n",
        "\n",
        "  for chave, valor in kwargs.items():\n",
        "    print(f\"{chave}: {valor}\")\n",
        "\n",
        "aluno(\"Eduardo\")\n",
        "somar_notas(6,5,10)\n",
        "aluno_idade(nome=\"Eduardo\", idade=37)"
      ],
      "metadata": {
        "colab": {
          "base_uri": "https://localhost:8080/"
        },
        "id": "b9Gmv-HKDBlQ",
        "outputId": "246a267a-ef8d-44b5-a203-9c31214d8279"
      },
      "execution_count": 15,
      "outputs": [
        {
          "output_type": "stream",
          "name": "stdout",
          "text": [
            "Aluno mencionado: Eduardo\n",
            "Argumentos: (6, 5, 10)\n",
            "<class 'tuple'>\n",
            "Quantidade de notas: 3\n",
            "Soma das notas: 21\n",
            "Media das notas: 7.0\n",
            "\n",
            "\n",
            "<class 'dict'>\n",
            "{'nome': 'Eduardo', 'idade': 37}\n",
            "dict_items([('nome', 'Eduardo'), ('idade', 37)])\n",
            "nome: Eduardo\n",
            "idade: 37\n"
          ]
        }
      ]
    },
    {
      "cell_type": "markdown",
      "source": [
        "# **FUNÇÕES - Parâmetros especiais**\n",
        "Por padrão, argumentos podem ser passados para uma função Python tanto por posição quanto explicitamente pelo nome. Para uma melhor legibilidade e desempenho, faz sentido restringir a maneira pelo qual argumentos possam ser passados, assim um desenvolvedor precisa apenas olhar para a definição da função para determinar se os itens são passados por posição, por posição e nome, ou por nome.\n",
        "\n",
        "```\n",
        "def f(pos1, pos2, /, pos_or_kwd, *, kwd1, kwd2):\n",
        "        |              |              |\n",
        "        |              |              --> Keyboard only\n",
        "        |              -----------------> Positional or Keyword\n",
        "        --------------------------------> Positional only\n",
        "```\n",
        "\n",
        "\n",
        "\n",
        "\n"
      ],
      "metadata": {
        "id": "zWF_43tYMIOm"
      }
    },
    {
      "cell_type": "code",
      "source": [
        "# EXEMPLO\n",
        "# -----------------------------\n",
        "\n",
        "def criar_carro(modelo, ano, placa, /, marca, motor, combustivel):\n",
        "  print(modelo, ano, placa, marca, motor, combustivel)\n",
        "\n",
        "criar_carro(\"Palio\", 1999, \"ABC-1234\", marca=\"Fiat\", motor=\"1.0\", combustivel=\"Gasolina\")"
      ],
      "metadata": {
        "colab": {
          "base_uri": "https://localhost:8080/"
        },
        "id": "Y7lbi8rQMYm7",
        "outputId": "67e83d50-8f5e-4e07-8c36-23bade3a9985"
      },
      "execution_count": 16,
      "outputs": [
        {
          "output_type": "stream",
          "name": "stdout",
          "text": [
            "Palio 1999 ABC-1234 Fiat 1.0 Gasolina\n"
          ]
        }
      ]
    },
    {
      "cell_type": "markdown",
      "source": [
        "## **Keyword Only**"
      ],
      "metadata": {
        "id": "uAsdDblMVRcG"
      }
    },
    {
      "cell_type": "code",
      "source": [
        "# EXEMPLO\n",
        "# -----------------------------\n",
        "\n",
        "def criar_carro(*, modelo, ano, placa, marca, motor, combustivel):\n",
        "  print(modelo, ano, placa, marca, motor, combustivel)\n",
        "\n",
        "criar_carro(modelo=\"Palio\", ano=1999, placa=\"ABC-1234\", marca=\"Fiat\", motor=\"1.0\", combustivel=\"Gasolina\")"
      ],
      "metadata": {
        "colab": {
          "base_uri": "https://localhost:8080/"
        },
        "id": "atIIr0jCVjOO",
        "outputId": "22d1ad4b-de66-45ab-9845-3b3f17c3ba47"
      },
      "execution_count": 17,
      "outputs": [
        {
          "output_type": "stream",
          "name": "stdout",
          "text": [
            "Palio 1999 ABC-1234 Fiat 1.0 Gasolina\n"
          ]
        }
      ]
    },
    {
      "cell_type": "markdown",
      "source": [
        "## **Keyword ans positional only**"
      ],
      "metadata": {
        "id": "tMVgSd2cV_V4"
      }
    },
    {
      "cell_type": "code",
      "source": [
        "# EXEMPLO\n",
        "# -----------------------------\n",
        "\n",
        "def criar_carro(modelo, ano, placa, /, *,marca, motor, combustivel):\n",
        "  print(modelo, ano, placa, marca, motor, combustivel)\n",
        "\n",
        "criar_carro(\"Palio\", 1999, \"ABC-1234\", marca=\"Fiat\", motor=\"1.0\", combustivel=\"Gasolina\")"
      ],
      "metadata": {
        "id": "ez3HKmdHWSkJ"
      },
      "execution_count": null,
      "outputs": []
    },
    {
      "cell_type": "markdown",
      "source": [
        "# **Objetos de primeira classe**\n",
        "Em Python tudo é objeto, dessa forma funções também são objetos o que as tornam objetos de primeira classe. Com isso podemos atribuir funções a variáveis, passá-las como parâmetro para funções, usá-las como valores em estruturas de dados (listas, tuplas, dicionários, etc) e usar como valor de retorno para uma função (closures)."
      ],
      "metadata": {
        "id": "HFnevVGLWjaF"
      }
    },
    {
      "cell_type": "code",
      "source": [
        "# Exemplo\n",
        "# ---------------------\n",
        "def somar(a,b):\n",
        "  return a + b\n",
        "\n",
        "def subtrair(a,b):\n",
        "  return a - b\n",
        "\n",
        "def exibir_resultado(a, b, funcao):\n",
        "  resultado = funcao(a, b)\n",
        "  print(f\"O resultado da operacao de {a} com {b} = {resultado}\")\n",
        "\n",
        "exibir_resultado(10, 10, somar)\n",
        "exibir_resultado(10, 10, subtrair)"
      ],
      "metadata": {
        "colab": {
          "base_uri": "https://localhost:8080/"
        },
        "id": "DIxHx3lOXIWe",
        "outputId": "e190d747-6732-4f27-c6fb-521acf7b46c2"
      },
      "execution_count": 19,
      "outputs": [
        {
          "output_type": "stream",
          "name": "stdout",
          "text": [
            "O resultado da operacao de 10 com 10 = 20\n",
            "O resultado da operacao de 10 com 10 = 0\n"
          ]
        }
      ]
    },
    {
      "cell_type": "markdown",
      "source": [
        "# **Escopo local e escopo global**\n"
      ],
      "metadata": {
        "id": "54bxRu9IZmsH"
      }
    },
    {
      "cell_type": "code",
      "source": [
        "salario = 2000\n",
        "\n",
        "def salario_bonus(bonus, lista):\n",
        "  global salario\n",
        "  #lista.append(2)\n",
        "  lista_aux = lista.copy()\n",
        "  lista_aux.append(2)\n",
        "  print(f\"lista auxiliar = {lista_aux}\")\n",
        "\n",
        "  salario += bonus\n",
        "  return salario\n",
        "\n",
        "lista = [1]\n",
        "print(salario_bonus(500, lista))\n",
        "print(lista)"
      ],
      "metadata": {
        "colab": {
          "base_uri": "https://localhost:8080/"
        },
        "id": "jggAO6ljZ8JJ",
        "outputId": "8b7f7f18-68f7-4abd-c540-51cda01404e9"
      },
      "execution_count": 26,
      "outputs": [
        {
          "output_type": "stream",
          "name": "stdout",
          "text": [
            "lista auxiliar = [1, 2]\n",
            "2500\n",
            "[1]\n"
          ]
        }
      ]
    }
  ]
}