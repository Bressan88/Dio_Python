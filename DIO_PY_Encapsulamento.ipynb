{
  "nbformat": 4,
  "nbformat_minor": 0,
  "metadata": {
    "colab": {
      "provenance": [],
      "authorship_tag": "ABX9TyO3dj9DlwQHHRutIXDq6pga"
    },
    "kernelspec": {
      "name": "python3",
      "display_name": "Python 3"
    },
    "language_info": {
      "name": "python"
    }
  },
  "cells": [
    {
      "cell_type": "markdown",
      "source": [
        "# **ENCAPSULAMENTO**\n",
        "O encapsulamento é um dos conceitos fundamentais em programação orientada a objetos. Ele descreve a ideia de agrupar dados e os métodos que manipulam esses dados em uma unidade. Isso impõe restrições ao acesso direto a variáveis e métodos e pode evitar a modificação acidental de dados. Para evitar alterações acidentais, a variável de um objeto só pode ser alterada pelo método desse objeto."
      ],
      "metadata": {
        "id": "EC8GtiJpi1Qk"
      }
    },
    {
      "cell_type": "markdown",
      "source": [
        "## **MODIFICADORES DE ACESSO**\n",
        "Em linguagens como Java e C++, existem palavras reservadas para definir o nível de acesso aos atributos e métodos da classe. Em Python não temos palavras reservadas, porém usamos convenções no nome do recurso, para definir se a variável é pública ou privada.\n",
        "\n",
        "### DEFINIÇÃO\n",
        "- **Público:** Pode ser acessado de fora da classe;\n",
        "- **Provado:** Só pode ser acessado pela classe.\n",
        "\n",
        "### PÚBLICO/PRIVADO\n",
        "Todos os recursos são públicos, a menos que o nome inicie com underline. Ou seja, o interpretador Python não irá garantir a proteção do recurso, mas por ser uma convenção amplamente adotada na comunidade, quando encontramos uma variável e/ou método com nome iniciado por underline, sabemos que não deveríamos manipular o seu valor diretamente, ou invocar o método fora do escopo da classe."
      ],
      "metadata": {
        "id": "iWU5OC4elcl_"
      }
    },
    {
      "cell_type": "code",
      "execution_count": 8,
      "metadata": {
        "colab": {
          "base_uri": "https://localhost:8080/"
        },
        "id": "Ssl7YTh0ivfq",
        "outputId": "410b09f6-5f5c-4ddb-cb2d-536dd8c44401"
      },
      "outputs": [
        {
          "output_type": "stream",
          "name": "stdout",
          "text": [
            "200\n",
            "0001\n",
            "200\n"
          ]
        }
      ],
      "source": [
        "class Conta:\n",
        "  def __init__(self, nro_agencia, saldo=0):\n",
        "    self._saldo = saldo\n",
        "    self.nro_agencia = nro_agencia\n",
        "\n",
        "  def depositar(self, valor):\n",
        "    self._saldo += valor\n",
        "\n",
        "  def sacar(self, valor):\n",
        "    self._saldo -= valor\n",
        "\n",
        "  def mostrar_saldo(self):\n",
        "    return self._saldo\n",
        "\n",
        "conta1 = Conta('0001',100)\n",
        "# conta1._saldo += 100 ---> Situação não aconselhada\n",
        "conta1.depositar(100)\n",
        "print(conta1._saldo)\n",
        "print(conta1.nro_agencia)\n",
        "print(conta1.mostrar_saldo())"
      ]
    },
    {
      "cell_type": "markdown",
      "source": [
        "## **PROPERTIES**\n",
        "### Pra que servem\n",
        "Com o property() do Python, você pode criar atributos gerenciados em suas classes. Pode-se usar atributos gerenciados, também conhecidos como propriedades, quando precisar modificar sua implementação interna sem alterar a API pública da classe."
      ],
      "metadata": {
        "id": "lhLN-50Bqv-w"
      }
    },
    {
      "cell_type": "code",
      "source": [
        "class Foo:\n",
        "  def __init__(self, x=None):\n",
        "    self._x = x\n",
        "\n",
        "  @property\n",
        "  def x(self):\n",
        "    return self._x or 0\n",
        "\n",
        "  @x.setter\n",
        "  def x(self, value):\n",
        "    _x = self._x or 0\n",
        "    _value = value or 0\n",
        "    self._x = _x + _value\n",
        "\n",
        "  @x.deleter\n",
        "  def x(self):\n",
        "    self._x = -1\n",
        "\n",
        "foo = Foo(10)\n",
        "print(foo.x)\n",
        "foo.x = 10\n",
        "print(foo.x)\n",
        "del foo.x\n",
        "print(foo.x)\n"
      ],
      "metadata": {
        "colab": {
          "base_uri": "https://localhost:8080/"
        },
        "id": "X-KV29QTsOLo",
        "outputId": "37cb5caf-1c6d-4be2-b64e-d1c7f3c7559b"
      },
      "execution_count": 9,
      "outputs": [
        {
          "output_type": "stream",
          "name": "stdout",
          "text": [
            "10\n",
            "20\n",
            "-1\n"
          ]
        }
      ]
    },
    {
      "cell_type": "code",
      "source": [
        "class Foo:\n",
        "  def __init__(self, x=None):\n",
        "    print(f\"Instância criada. Nome da classe: {self.__class__.__name__}\")\n",
        "    self._x = x\n",
        "\n",
        "  @property # Transforma o método em uma propriedade\n",
        "  def x(self):\n",
        "    return self._x or 0\n",
        "\n",
        "  @x.setter\n",
        "  def x(self, value):\n",
        "    self._x += value\n",
        "\n",
        "  @x.deleter\n",
        "  def x(self):\n",
        "    self._x = -1\n",
        "\n",
        "foo1 = Foo()\n",
        "print(foo1.x)\n",
        "#foo1.x = 10\n",
        "#print(foo1.x)\n",
        "#del foo1.x\n",
        "#print(foo1.x)"
      ],
      "metadata": {
        "colab": {
          "base_uri": "https://localhost:8080/"
        },
        "id": "e3QvUPkousJv",
        "outputId": "70cce69b-9421-4b9f-f8ac-08da387531b8"
      },
      "execution_count": 30,
      "outputs": [
        {
          "output_type": "stream",
          "name": "stdout",
          "text": [
            "Instância criada. Nome da classe: Foo\n",
            "0\n"
          ]
        }
      ]
    }
  ]
}