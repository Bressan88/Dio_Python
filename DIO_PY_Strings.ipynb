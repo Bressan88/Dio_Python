{
  "nbformat": 4,
  "nbformat_minor": 0,
  "metadata": {
    "colab": {
      "provenance": [],
      "authorship_tag": "ABX9TyODkDX7NQ5HM8s0kP+M9Uk6",
      "include_colab_link": true
    },
    "kernelspec": {
      "name": "python3",
      "display_name": "Python 3"
    },
    "language_info": {
      "name": "python"
    }
  },
  "cells": [
    {
      "cell_type": "markdown",
      "metadata": {
        "id": "view-in-github",
        "colab_type": "text"
      },
      "source": [
        "<a href=\"https://colab.research.google.com/github/Bressan88/Dio_Python/blob/main/DIO_PY_Strings.ipynb\" target=\"_parent\"><img src=\"https://colab.research.google.com/assets/colab-badge.svg\" alt=\"Open In Colab\"/></a>"
      ]
    },
    {
      "cell_type": "markdown",
      "source": [
        "# **STRINGS**\n",
        "A classe String do Python é famosa por ser rica em métodos e possuir uma interface muito fácil de trabalhar.\n",
        "\n",
        "Em algumas linguagens manipular sequências de caracteres não é um trabalho trivial, porém, em Python esse trabalho é muito simples."
      ],
      "metadata": {
        "id": "HyE9O918hRKG"
      }
    },
    {
      "cell_type": "code",
      "execution_count": 16,
      "metadata": {
        "colab": {
          "base_uri": "https://localhost:8080/"
        },
        "id": "hYs8ICX2hKsv",
        "outputId": "44547391-3288-404c-b872-a16afa25c0db"
      },
      "outputs": [
        {
          "output_type": "stream",
          "name": "stdout",
          "text": [
            "PYTHON\n",
            "python\n",
            "Python\n",
            "\n",
            "Python\n",
            "Python   \n",
            "   Python\n",
            "\n",
            "##Python##\n",
            "  Python  \n",
            "--Python--\n",
            ">>>>Python\n",
            "P.y.t.h.o.n\n",
            "\n"
          ]
        }
      ],
      "source": [
        "curso = \"pYtHon\"\n",
        "\n",
        "print(curso.upper())\n",
        "print(curso.lower())\n",
        "print(curso.title())\n",
        "print(\"\")\n",
        "\n",
        "# Eliminando espaços em branco\n",
        "curso = \"   Python   \"\n",
        "print(curso.strip())\n",
        "print(curso.lstrip())\n",
        "print(curso.rstrip())\n",
        "print(\"\")\n",
        "\n",
        "# Junções e conexões\n",
        "curso = \"Python\"\n",
        "print(curso.center(10,\"#\"))\n",
        "print(curso.center(10))\n",
        "print(curso.center(10,\"-\"))\n",
        "print(curso.rjust(10,\">\"))\n",
        "print(\".\".join(curso))\n",
        "print(\"\")"
      ]
    },
    {
      "cell_type": "code",
      "source": [
        "# EXEMPLO 1 - STRINGS\n",
        "# -------------------\n",
        "\n",
        "nome = \"Eduardo\"\n",
        "\n",
        "print(nome.upper())\n",
        "print(nome.lower())\n",
        "print(nome.title())\n",
        "print(\"\")\n",
        "\n",
        "texto = \"   Boa noite   \"\n",
        "print(texto)\n",
        "print(texto.strip())\n",
        "print(texto.lstrip())\n",
        "print(texto.rstrip())\n",
        "print(texto.center(20,'-'))\n",
        "print(texto.strip().center(20,'-'))\n",
        "print(\"-\".join(texto.strip()))"
      ],
      "metadata": {
        "colab": {
          "base_uri": "https://localhost:8080/"
        },
        "id": "SyXMoFD6kVzT",
        "outputId": "0ab71069-1c9e-4da7-de6a-9a8e182d67b1"
      },
      "execution_count": 24,
      "outputs": [
        {
          "output_type": "stream",
          "name": "stdout",
          "text": [
            "EDUARDO\n",
            "eduardo\n",
            "Eduardo\n",
            "\n",
            "   Boa noite   \n",
            "Boa noite\n",
            "Boa noite   \n",
            "   Boa noite\n",
            "--   Boa noite   ---\n",
            "-----Boa noite------\n",
            "B-o-a- -n-o-i-t-e\n"
          ]
        }
      ]
    },
    {
      "cell_type": "code",
      "source": [
        "texto = 'Cadeira'\n",
        "\n",
        "for x in texto:\n",
        "  print(x, end=\"-\")\n",
        "\n",
        "else:\n",
        "  print(\"\\nFim do loop de repetição FOR\")"
      ],
      "metadata": {
        "colab": {
          "base_uri": "https://localhost:8080/"
        },
        "id": "EzmDFJiEmpWb",
        "outputId": "71ba208a-212a-4658-9446-67f8430ce787"
      },
      "execution_count": 31,
      "outputs": [
        {
          "output_type": "stream",
          "name": "stdout",
          "text": [
            "C-a-d-e-i-r-a-\n",
            "Fim do loop de repetição FOR\n"
          ]
        }
      ]
    },
    {
      "cell_type": "markdown",
      "source": [
        "## **STRINGS - INTERPOLAÇÃO DE VARIÁVEIS**\n",
        "Em Python temos 3 formas de interpolar variáveis em strings:\n",
        "- 1ª: Usando o sinal ***%***;\n",
        "- 2ª: Usando o método ***format***;\n",
        "- 3ª: Usando ***f strings***."
      ],
      "metadata": {
        "id": "9zs2lP5enImB"
      }
    },
    {
      "cell_type": "code",
      "source": [
        "nome = \"Eduardo\"\n",
        "idade = 37\n",
        "profissao = \"Programador\"\n",
        "linguagem = \"Python\"\n",
        "\n",
        "# %\n",
        "print(\"Olá, sou o %s, tenho %d anos, estudo %s no curso de %s\" % (nome, idade, profissao, linguagem))\n",
        "\n",
        "# format\n",
        "print(\"Olá, sou o {}, tenho {} anos, estudo {} no curso de {}\".format(nome, idade, profissao, linguagem))\n",
        "print(\"Olá, sou o {2}, tenho {3} anos, estudo {0} no curso de {1}\".format(profissao, linguagem, nome, idade))\n",
        "print(\"Olá, sou o {nome}, tenho {idade} anos, estudo {profissao} no curso de {linguagem}\".format(nome=nome, idade=idade, profissao=profissao, linguagem=linguagem))\n",
        "#print(\"Olá, sou o {nome}, tenho {idade} anos, estudo {profissao} no curso de {linguagem}\".format(**pessoa))\n",
        "\n",
        "# f-string\n",
        "print(f\"Olá, sou o {nome}, tenho {idade} anos, estudo {profissao} no curso de {linguagem}\")\n",
        "\n",
        "PI = 3.14159\n",
        "print(f'Valor de PI = {PI:.2f}')\n",
        "print(f'Valor de PI = {PI:10.2f}')"
      ],
      "metadata": {
        "colab": {
          "base_uri": "https://localhost:8080/"
        },
        "id": "7OYzWvL8ny9P",
        "outputId": "808f1ede-54c0-49a5-a363-5d1f00080b6a"
      },
      "execution_count": 36,
      "outputs": [
        {
          "output_type": "stream",
          "name": "stdout",
          "text": [
            "Olá, sou o Eduardo, tenho 37 anos, estudo Programador no curso de Python\n",
            "Olá, sou o Eduardo, tenho 37 anos, estudo Programador no curso de Python\n",
            "Olá, sou o Eduardo, tenho 37 anos, estudo Programador no curso de Python\n",
            "Olá, sou o Eduardo, tenho 37 anos, estudo Programador no curso de Python\n",
            "Olá, sou o Eduardo, tenho 37 anos, estudo Programador no curso de Python\n",
            "Valor de PI = 3.14\n",
            "Valor de PI =       3.14\n"
          ]
        }
      ]
    },
    {
      "cell_type": "code",
      "source": [
        "nome = 'Eduardo'\n",
        "idade = 37\n",
        "saldo = 1000\n",
        "\n",
        "dados = {\"nome\": \"Eduardo\", \"idade\": 37}\n",
        "\n",
        "print(\"Nome: {nome}\\nIdade: {idade}\".format(**dados))\n",
        "print('')\n",
        "\n",
        "print(f'Nome: {nome}\\nIdade: {idade}\\nSaldo: {saldo:10.2f}')\n",
        "print('')"
      ],
      "metadata": {
        "colab": {
          "base_uri": "https://localhost:8080/"
        },
        "id": "NnUnH0oCu0j8",
        "outputId": "c7c171ab-3a40-42e8-f7ea-f4411a615a6f"
      },
      "execution_count": 49,
      "outputs": [
        {
          "output_type": "stream",
          "name": "stdout",
          "text": [
            "Nome: Eduardo\n",
            "Idade: 37\n",
            "\n",
            "Nome: Eduardo\n",
            "Idade: 37\n",
            "Saldo:    1000.00\n",
            "\n"
          ]
        }
      ]
    },
    {
      "cell_type": "markdown",
      "source": [
        "## **FATIAMENTO DE STRINGS**\n",
        "É uma técnica utilizada para retornar substrings (partes da string original), informando inicio (start), fim (stop) e passo (step): [start: stop[, step]]."
      ],
      "metadata": {
        "id": "i-Rw3NUbtxvL"
      }
    },
    {
      "cell_type": "code",
      "source": [
        "nome = 'Pedro Pedrosa da Rocha'\n",
        "\n",
        "print(nome[0])\n",
        "print(nome[:9])\n",
        "print(nome[9:])\n",
        "print(nome[4:9])\n",
        "print(nome[4:9:2])\n",
        "print(nome[:])\n",
        "print(nome[::-1])"
      ],
      "metadata": {
        "colab": {
          "base_uri": "https://localhost:8080/"
        },
        "id": "M3gF88iSt2Ik",
        "outputId": "70448dab-86b7-4f46-c116-fbc7e8f8f9c1"
      },
      "execution_count": 50,
      "outputs": [
        {
          "output_type": "stream",
          "name": "stdout",
          "text": [
            "P\n",
            "Pedro Ped\n",
            "rosa da Rocha\n",
            "o Ped\n",
            "oPd\n",
            "Pedro Pedrosa da Rocha\n",
            "ahcoR ad asordeP ordeP\n"
          ]
        }
      ]
    },
    {
      "cell_type": "markdown",
      "source": [
        "## **STRING MULTIPLAS LINHAS**\n",
        "f\"\"\"\n",
        "mensagem\n",
        "mensagem\n",
        "\"\"\""
      ],
      "metadata": {
        "id": "S-jL9dmM1Ofu"
      }
    },
    {
      "cell_type": "code",
      "source": [
        "nome = \"Eduardo\"\n",
        "\n",
        "mensagem = f'''\n",
        "Olá, meu nome é\n",
        "  {nome}.\n",
        "Boa noite\n",
        "'''\n",
        "print(mensagem)"
      ],
      "metadata": {
        "colab": {
          "base_uri": "https://localhost:8080/"
        },
        "id": "cezeAK1r1TOY",
        "outputId": "a6d15316-1135-4a42-ad82-333132f6e45f"
      },
      "execution_count": 52,
      "outputs": [
        {
          "output_type": "stream",
          "name": "stdout",
          "text": [
            "\n",
            "Olá, meu nome é\n",
            "  Eduardo.\n",
            "Boa noite\n",
            "\n"
          ]
        }
      ]
    },
    {
      "cell_type": "code",
      "source": [],
      "metadata": {
        "id": "PIxVsTBS5HbU"
      },
      "execution_count": null,
      "outputs": []
    }
  ]
}